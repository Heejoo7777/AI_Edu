{
 "cells": [
  {
   "cell_type": "code",
   "execution_count": null,
   "id": "5a390ff4",
   "metadata": {},
   "outputs": [],
   "source": [
    "import os\n",
    "\n",
    "path = \"C:\\\\Users\\\\BIT_R34\\\\Downloads\\\\train\"\n",
    "file_list = os.listdir(path)\n",
    "\n",
    "print (\"file_list: {}\".format(file_list))"
   ]
  },
  {
   "cell_type": "code",
   "execution_count": null,
   "id": "a994145b",
   "metadata": {},
   "outputs": [],
   "source": [
    "topCount = 0\n",
    "crossCount = 0\n",
    "leftCount = 0\n",
    "rightCount = 0\n",
    "\n",
    "\n",
    "for fileName in file_list:\n",
    "    # 파일명만 남긴다.\n",
    "    dirname, basename = os.path.split(fileName)\n",
    "    # ex : cross_00155f184a5a_3.jpg\n",
    "    # category <= cross\n",
    "    # _ <= 00155f184a5a_3.jpg (버리는 방법)\n",
    "    category = basename.split('_')\n",
    "    #print(fileName)\n",
    "    #print(basename)\n",
    "    if category[0]=='cross':\n",
    "        crossCount += 1\n",
    "    elif category[0]=='left':\n",
    "        leftCount += 1\n",
    "    elif category[0]=='right':\n",
    "        rightCount += 1\n",
    "    else:\n",
    "        topCount += 1\n",
    "\n",
    "print('crossCount={}'.format(crossCount))\n",
    "print('leftCount={}'.format(leftCount))\n",
    "print('rightCount={}'.format(rightCount))\n",
    "print('topCount={}'.format(topCount))"
   ]
  },
  {
   "cell_type": "code",
   "execution_count": null,
   "id": "f88322c1",
   "metadata": {},
   "outputs": [],
   "source": []
  },
  {
   "cell_type": "code",
   "execution_count": null,
   "id": "4b73cff0",
   "metadata": {},
   "outputs": [],
   "source": []
  },
  {
   "cell_type": "code",
   "execution_count": null,
   "id": "6e71f41a",
   "metadata": {},
   "outputs": [],
   "source": []
  },
  {
   "cell_type": "code",
   "execution_count": null,
   "id": "9ff60102",
   "metadata": {},
   "outputs": [],
   "source": []
  },
  {
   "cell_type": "code",
   "execution_count": null,
   "id": "34e45786",
   "metadata": {},
   "outputs": [],
   "source": [
    "import glob\n",
    "\n",
    "path = \"C:\\\\Users\\\\BIT_R34\\\\Downloads\\\\train\\\\*.jpg\"\n",
    "file_list = glob.glob(path)\n",
    "\n",
    "print (\"file_list_jpg: {}\".format(file_list))"
   ]
  },
  {
   "cell_type": "code",
   "execution_count": null,
   "id": "695b9f46",
   "metadata": {},
   "outputs": [],
   "source": []
  }
 ],
 "metadata": {
  "kernelspec": {
   "display_name": "Python 3",
   "language": "python",
   "name": "python3"
  },
  "language_info": {
   "codemirror_mode": {
    "name": "ipython",
    "version": 3
   },
   "file_extension": ".py",
   "mimetype": "text/x-python",
   "name": "python",
   "nbconvert_exporter": "python",
   "pygments_lexer": "ipython3",
   "version": "3.6.13"
  }
 },
 "nbformat": 4,
 "nbformat_minor": 5
}
