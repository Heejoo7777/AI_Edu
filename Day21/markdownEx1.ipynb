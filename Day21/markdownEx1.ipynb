{
 "cells": [
  {
   "cell_type": "markdown",
   "id": "46362bc9",
   "metadata": {},
   "source": [
    "$\\alpha$: alpha 알파"
   ]
  },
  {
   "cell_type": "markdown",
   "id": "2eb1d9e4",
   "metadata": {},
   "source": [
    "$\\beta$: beta 베타"
   ]
  },
  {
   "cell_type": "markdown",
   "id": "ee30d68b",
   "metadata": {},
   "source": [
    "$\\gamma$: gamma 감마"
   ]
  },
  {
   "cell_type": "markdown",
   "id": "21e5c49e",
   "metadata": {},
   "source": [
    "$\\delta$: delta 델타"
   ]
  },
  {
   "cell_type": "markdown",
   "id": "011b5a72",
   "metadata": {},
   "source": [
    "$\\epsilon$: epsilon 엡실론"
   ]
  },
  {
   "cell_type": "markdown",
   "id": "c4350586",
   "metadata": {},
   "source": [
    "$\\zeta$: zeta 제타"
   ]
  },
  {
   "cell_type": "markdown",
   "id": "5e892d5b",
   "metadata": {},
   "source": [
    "$\\eta$: eta 에타"
   ]
  },
  {
   "cell_type": "markdown",
   "id": "df19bc11",
   "metadata": {},
   "source": [
    "$\\theta$: theta 쎄타"
   ]
  },
  {
   "cell_type": "markdown",
   "id": "09d63fe5",
   "metadata": {},
   "source": [
    "$\\kappa$: kappa 카파"
   ]
  },
  {
   "cell_type": "markdown",
   "id": "3fa83095",
   "metadata": {},
   "source": [
    "$\\lambda$: lambda 람다"
   ]
  },
  {
   "cell_type": "markdown",
   "id": "af077533",
   "metadata": {},
   "source": [
    "$\\mu$: mu 뮤"
   ]
  },
  {
   "cell_type": "markdown",
   "id": "498f7d50",
   "metadata": {},
   "source": [
    "$\\nu$: nu 누"
   ]
  },
  {
   "cell_type": "markdown",
   "id": "561f4303",
   "metadata": {},
   "source": [
    "$\\xi$: xi 크사이"
   ]
  },
  {
   "cell_type": "markdown",
   "id": "5300c29a",
   "metadata": {},
   "source": [
    "$\\pi$: pi 파이"
   ]
  },
  {
   "cell_type": "markdown",
   "id": "ddd441f5",
   "metadata": {},
   "source": [
    "$\\rho$: rho 로"
   ]
  },
  {
   "cell_type": "markdown",
   "id": "226f1065",
   "metadata": {},
   "source": [
    "$\\sigma$: sigma 시그마"
   ]
  },
  {
   "cell_type": "markdown",
   "id": "cfd83323",
   "metadata": {},
   "source": [
    "$\\tau$: tau 타우"
   ]
  },
  {
   "cell_type": "markdown",
   "id": "7f1024b0",
   "metadata": {},
   "source": [
    "$\\phi$: phi 파이/피"
   ]
  },
  {
   "cell_type": "markdown",
   "id": "7e1ddecf",
   "metadata": {},
   "source": [
    "$\\chi$: chi 카이"
   ]
  },
  {
   "cell_type": "markdown",
   "id": "b411fc60",
   "metadata": {},
   "source": [
    "$\\psi$: psi 프사이"
   ]
  },
  {
   "cell_type": "markdown",
   "id": "b856a5d4",
   "metadata": {},
   "source": [
    "$\\omega$: omega 오메가"
   ]
  },
  {
   "cell_type": "markdown",
   "id": "32986299",
   "metadata": {},
   "source": [
    "# 큰글자\n",
    "## 글자크기 정하려면 앞에 #의 갯수로\n",
    "### 최대 6개까지 글자크기 정할 수 있음\n",
    "#### #다음에 띄어쓰기 있어야함\n",
    "> 이것은 인용부호입니다.\n",
    ">> 이것은 두번 들여쓰기 효과가 납니다.\n",
    "\n",
    "> # 이것은 >과 #를 이용한 인용부호입니다\n"
   ]
  },
  {
   "cell_type": "markdown",
   "id": "faabfea2",
   "metadata": {},
   "source": [
    "+ 제목"
   ]
  },
  {
   "cell_type": "markdown",
   "id": "729fc923",
   "metadata": {},
   "source": [
    "``` python\n",
    "import os #`는 esc 아래에 있어요!!\n",
    "import numpy \n",
    "\n",
    "```"
   ]
  },
  {
   "cell_type": "markdown",
   "id": "3bdb2201",
   "metadata": {},
   "source": [
    "1 <br>2 3 4 5 6 "
   ]
  },
  {
   "cell_type": "code",
   "execution_count": null,
   "id": "d7ce8a0e",
   "metadata": {},
   "outputs": [],
   "source": []
  }
 ],
 "metadata": {
  "kernelspec": {
   "display_name": "Python 3",
   "language": "python",
   "name": "python3"
  },
  "language_info": {
   "codemirror_mode": {
    "name": "ipython",
    "version": 3
   },
   "file_extension": ".py",
   "mimetype": "text/x-python",
   "name": "python",
   "nbconvert_exporter": "python",
   "pygments_lexer": "ipython3",
   "version": "3.6.13"
  }
 },
 "nbformat": 4,
 "nbformat_minor": 5
}
