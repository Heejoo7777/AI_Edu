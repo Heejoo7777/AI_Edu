{
 "cells": [
  {
   "cell_type": "markdown",
   "id": "8b51a873",
   "metadata": {},
   "source": [
    "### Numpy Version"
   ]
  },
  {
   "cell_type": "code",
   "execution_count": 1,
   "id": "880bf496",
   "metadata": {},
   "outputs": [],
   "source": [
    "import numpy as np"
   ]
  },
  {
   "cell_type": "code",
   "execution_count": 2,
   "id": "fda1cd08",
   "metadata": {},
   "outputs": [
    {
     "data": {
      "text/plain": [
       "'1.19.2'"
      ]
     },
     "execution_count": 2,
     "metadata": {},
     "output_type": "execute_result"
    }
   ],
   "source": [
    "np.__version__"
   ]
  },
  {
   "cell_type": "markdown",
   "id": "a0d09e4f",
   "metadata": {},
   "source": [
    "### ndarray 생성"
   ]
  },
  {
   "cell_type": "code",
   "execution_count": 3,
   "id": "b4f890b1",
   "metadata": {},
   "outputs": [],
   "source": [
    "arr = np.array([1,2,3,4], dtype=int)"
   ]
  },
  {
   "cell_type": "code",
   "execution_count": 4,
   "id": "d8f26a32",
   "metadata": {},
   "outputs": [
    {
     "data": {
      "text/plain": [
       "array([1, 2, 3, 4])"
      ]
     },
     "execution_count": 4,
     "metadata": {},
     "output_type": "execute_result"
    }
   ],
   "source": [
    "arr"
   ]
  },
  {
   "cell_type": "code",
   "execution_count": 5,
   "id": "562fb280",
   "metadata": {},
   "outputs": [
    {
     "data": {
      "text/plain": [
       "numpy.ndarray"
      ]
     },
     "execution_count": 5,
     "metadata": {},
     "output_type": "execute_result"
    }
   ],
   "source": [
    "type(arr)"
   ]
  },
  {
   "cell_type": "code",
   "execution_count": 6,
   "id": "59e2a780",
   "metadata": {},
   "outputs": [
    {
     "data": {
      "text/plain": [
       "(4,)"
      ]
     },
     "execution_count": 6,
     "metadata": {},
     "output_type": "execute_result"
    }
   ],
   "source": [
    "arr.shape"
   ]
  },
  {
   "cell_type": "code",
   "execution_count": null,
   "id": "7578265a",
   "metadata": {},
   "outputs": [],
   "source": [
    "# 1차원 리스트\n",
    "myList = [1,2,3,4]   # python List\n",
    "arr = np.array(myList, dtype=float)"
   ]
  },
  {
   "cell_type": "code",
   "execution_count": null,
   "id": "0b50bb08",
   "metadata": {},
   "outputs": [],
   "source": [
    "arr"
   ]
  },
  {
   "cell_type": "code",
   "execution_count": null,
   "id": "ccb63faa",
   "metadata": {},
   "outputs": [],
   "source": [
    "# 퀴즈\n",
    "myList = [1.3, 2.3, 3.3, 4.3]\n",
    "arr = np.array(myList, dtype=int)"
   ]
  },
  {
   "cell_type": "code",
   "execution_count": null,
   "id": "2fe11efe",
   "metadata": {},
   "outputs": [],
   "source": [
    "arr"
   ]
  },
  {
   "cell_type": "code",
   "execution_count": null,
   "id": "c5c2d9d8",
   "metadata": {},
   "outputs": [],
   "source": [
    "# 2차원 리스트\n",
    "myList2 = [[1,2,3,4],\n",
    "           [5,6,7,8]]"
   ]
  },
  {
   "cell_type": "code",
   "execution_count": null,
   "id": "2b76d20f",
   "metadata": {},
   "outputs": [],
   "source": [
    "myList2"
   ]
  },
  {
   "cell_type": "code",
   "execution_count": null,
   "id": "f3241661",
   "metadata": {},
   "outputs": [],
   "source": [
    "arr = np.array(myList2)"
   ]
  },
  {
   "cell_type": "code",
   "execution_count": null,
   "id": "5c0444a8",
   "metadata": {},
   "outputs": [],
   "source": [
    "arr.shape"
   ]
  },
  {
   "cell_type": "code",
   "execution_count": null,
   "id": "0420efe6",
   "metadata": {},
   "outputs": [],
   "source": [
    "type(arr)"
   ]
  },
  {
   "cell_type": "code",
   "execution_count": null,
   "id": "96aa25ee",
   "metadata": {},
   "outputs": [],
   "source": [
    "arr"
   ]
  },
  {
   "cell_type": "code",
   "execution_count": null,
   "id": "5d4550f6",
   "metadata": {},
   "outputs": [],
   "source": [
    "myList2 = [[1.3,2,3,4],\n",
    "           [5,6,7,8]]"
   ]
  },
  {
   "cell_type": "code",
   "execution_count": null,
   "id": "5e079d05",
   "metadata": {},
   "outputs": [],
   "source": [
    "arr = np.array(myList2)"
   ]
  },
  {
   "cell_type": "code",
   "execution_count": null,
   "id": "4258031f",
   "metadata": {},
   "outputs": [],
   "source": [
    "arr"
   ]
  },
  {
   "cell_type": "code",
   "execution_count": null,
   "id": "f068f12f",
   "metadata": {},
   "outputs": [],
   "source": [
    "myList = [1, 3.14, 'hello_world','1234']"
   ]
  },
  {
   "cell_type": "code",
   "execution_count": null,
   "id": "9e00e72e",
   "metadata": {},
   "outputs": [],
   "source": [
    "myList"
   ]
  },
  {
   "cell_type": "code",
   "execution_count": null,
   "id": "a878c42e",
   "metadata": {},
   "outputs": [],
   "source": [
    "arr = np.array(myList)"
   ]
  },
  {
   "cell_type": "code",
   "execution_count": null,
   "id": "1f8b32f4",
   "metadata": {},
   "outputs": [],
   "source": [
    "arr"
   ]
  },
  {
   "cell_type": "code",
   "execution_count": null,
   "id": "badc9882",
   "metadata": {},
   "outputs": [],
   "source": [
    "arr[0]+arr[1]"
   ]
  },
  {
   "cell_type": "code",
   "execution_count": null,
   "id": "06395d0a",
   "metadata": {},
   "outputs": [],
   "source": [
    "float(arr[0])+float(arr[1])"
   ]
  },
  {
   "cell_type": "markdown",
   "id": "a825d720",
   "metadata": {},
   "source": [
    "### 슬라이싱(Slicing)"
   ]
  },
  {
   "cell_type": "markdown",
   "id": "0a8ffeb9",
   "metadata": {},
   "source": [
    "배열을 부분선택"
   ]
  },
  {
   "cell_type": "markdown",
   "id": "edeb971d",
   "metadata": {},
   "source": [
    "#### 1차원 배열의 부분선택"
   ]
  },
  {
   "cell_type": "code",
   "execution_count": null,
   "id": "f5ae4fc9",
   "metadata": {},
   "outputs": [],
   "source": [
    "arr = np.array([0,1,2,3,4,5,6,7,8,9])\n",
    "arr.shape"
   ]
  },
  {
   "cell_type": "code",
   "execution_count": null,
   "id": "577df983",
   "metadata": {},
   "outputs": [],
   "source": [
    "arr[10]"
   ]
  },
  {
   "cell_type": "code",
   "execution_count": null,
   "id": "f6fc67a7",
   "metadata": {},
   "outputs": [],
   "source": [
    "arr[-1]"
   ]
  },
  {
   "cell_type": "code",
   "execution_count": null,
   "id": "ef9a8a40",
   "metadata": {},
   "outputs": [],
   "source": [
    "arr[-10]"
   ]
  },
  {
   "cell_type": "code",
   "execution_count": null,
   "id": "54db2cef",
   "metadata": {},
   "outputs": [],
   "source": [
    "arr[-11]"
   ]
  },
  {
   "cell_type": "markdown",
   "id": "9922a548",
   "metadata": {},
   "source": [
    "#### 2차원 배열의 부분선택"
   ]
  },
  {
   "cell_type": "code",
   "execution_count": null,
   "id": "51281af1",
   "metadata": {},
   "outputs": [],
   "source": [
    "arr2d = np.array([[1,2,3,4],[5,6,7,8],[9,10,11,12]])"
   ]
  },
  {
   "cell_type": "code",
   "execution_count": null,
   "id": "f10869be",
   "metadata": {},
   "outputs": [],
   "source": [
    "arr2d"
   ]
  },
  {
   "cell_type": "code",
   "execution_count": null,
   "id": "58f41586",
   "metadata": {},
   "outputs": [],
   "source": [
    "# np.arange(12) : 시작값은 0이고(생략), 종료조건이 12미만\n",
    "# np.arange(1,13) : 시작값이 1이고, 종료조건 13미만\n",
    "arr2d = np.array(np.arange(1, 13)).reshape(3,4)"
   ]
  },
  {
   "cell_type": "code",
   "execution_count": null,
   "id": "ea8932a7",
   "metadata": {},
   "outputs": [],
   "source": [
    "arr2d"
   ]
  },
  {
   "cell_type": "code",
   "execution_count": null,
   "id": "4bbd7709",
   "metadata": {},
   "outputs": [],
   "source": [
    "arr2d[0,2]"
   ]
  },
  {
   "cell_type": "code",
   "execution_count": null,
   "id": "3e9859f7",
   "metadata": {},
   "outputs": [],
   "source": [
    "arr2d[2,2]"
   ]
  },
  {
   "cell_type": "code",
   "execution_count": null,
   "id": "9c9308f0",
   "metadata": {},
   "outputs": [],
   "source": [
    "arr1d = np.array(np.arange(1, 13))"
   ]
  },
  {
   "cell_type": "code",
   "execution_count": null,
   "id": "902b6512",
   "metadata": {},
   "outputs": [],
   "source": [
    "arr1d"
   ]
  },
  {
   "cell_type": "code",
   "execution_count": null,
   "id": "2fdcddb2",
   "metadata": {},
   "outputs": [],
   "source": [
    "# 2~12까지만\n",
    "# 시작값:종료값(생략하면 끝까지)\n",
    "arr1d[1:]"
   ]
  },
  {
   "cell_type": "code",
   "execution_count": null,
   "id": "90b007c9",
   "metadata": {},
   "outputs": [],
   "source": [
    "#시작값(이상):종료값(index미만)\n",
    "arr1d[1:10]"
   ]
  },
  {
   "cell_type": "code",
   "execution_count": null,
   "id": "20dd16a2",
   "metadata": {},
   "outputs": [],
   "source": [
    "arr1d[:-1]"
   ]
  },
  {
   "cell_type": "code",
   "execution_count": null,
   "id": "39c7ec69",
   "metadata": {},
   "outputs": [],
   "source": [
    "arr1d[:-2]"
   ]
  },
  {
   "cell_type": "code",
   "execution_count": null,
   "id": "36a7920d",
   "metadata": {},
   "outputs": [],
   "source": [
    "arr1d[:-3]"
   ]
  },
  {
   "cell_type": "code",
   "execution_count": null,
   "id": "1d2a7086",
   "metadata": {},
   "outputs": [],
   "source": [
    "#2차원 배열의 범위 지정(슬라이싱)\n",
    "arr2d = np.array(np.arange(1, 13)).reshape(3,4)"
   ]
  },
  {
   "cell_type": "code",
   "execution_count": null,
   "id": "5ca2cb43",
   "metadata": {},
   "outputs": [],
   "source": [
    "arr2d"
   ]
  },
  {
   "cell_type": "code",
   "execution_count": null,
   "id": "2c8d151f",
   "metadata": {},
   "outputs": [],
   "source": [
    "# 한 행 지정한 뒤 모두 가져오기\n",
    "# 행,열(: 모든 열) \n",
    "arr2d[1, :]"
   ]
  },
  {
   "cell_type": "code",
   "execution_count": null,
   "id": "2a7da756",
   "metadata": {},
   "outputs": [],
   "source": [
    "arr2d[1, :].shape"
   ]
  },
  {
   "cell_type": "code",
   "execution_count": null,
   "id": "af93f9a3",
   "metadata": {},
   "outputs": [],
   "source": [
    "arr2d[:,2]"
   ]
  },
  {
   "cell_type": "code",
   "execution_count": null,
   "id": "fcc1012f",
   "metadata": {},
   "outputs": [],
   "source": [
    "arr2d[1, :].shape"
   ]
  },
  {
   "cell_type": "code",
   "execution_count": null,
   "id": "6e78a5a8",
   "metadata": {},
   "outputs": [],
   "source": [
    "arr2d[:2,1:3]"
   ]
  },
  {
   "cell_type": "code",
   "execution_count": null,
   "id": "e93acc23",
   "metadata": {},
   "outputs": [],
   "source": [
    "# 5x5 배열, 1부터 1씩 증가하는 배열 (1~25)\n",
    "my2dArr = np.array(np.arange(1,26)).reshape(5,5)"
   ]
  },
  {
   "cell_type": "code",
   "execution_count": null,
   "id": "bb2c8412",
   "metadata": {},
   "outputs": [],
   "source": [
    "my2dArr"
   ]
  },
  {
   "cell_type": "code",
   "execution_count": null,
   "id": "4771bdda",
   "metadata": {},
   "outputs": [],
   "source": [
    "my2dArr[2:,1:4]"
   ]
  },
  {
   "cell_type": "markdown",
   "id": "9423270a",
   "metadata": {},
   "source": [
    "### Fancy Indexing"
   ]
  },
  {
   "cell_type": "markdown",
   "id": "7d4093ae",
   "metadata": {},
   "source": [
    "범위가 아닌 특정 index값을 선택해서 추출하고 싶을 때"
   ]
  },
  {
   "cell_type": "code",
   "execution_count": null,
   "id": "92b17ca5",
   "metadata": {},
   "outputs": [],
   "source": [
    "# 1차원의 Fancy Indexing\n",
    "myArr = np.array(np.arange(1,10))"
   ]
  },
  {
   "cell_type": "code",
   "execution_count": null,
   "id": "232c0741",
   "metadata": {},
   "outputs": [],
   "source": [
    "myArr"
   ]
  },
  {
   "cell_type": "code",
   "execution_count": null,
   "id": "1b75a996",
   "metadata": {},
   "outputs": [],
   "source": [
    "idx = [0, 2, 4]"
   ]
  },
  {
   "cell_type": "code",
   "execution_count": null,
   "id": "4e745266",
   "metadata": {},
   "outputs": [],
   "source": [
    "myArr[idx]"
   ]
  },
  {
   "cell_type": "code",
   "execution_count": null,
   "id": "a185c03c",
   "metadata": {},
   "outputs": [],
   "source": [
    "# 2차원의 Fancy Indexing\n",
    "my2dArr = np.array(np.arange(1,13)).reshape(3,4)\n",
    "my2dArr"
   ]
  },
  {
   "cell_type": "code",
   "execution_count": null,
   "id": "1e9b0cf4",
   "metadata": {},
   "outputs": [],
   "source": [
    "index =[0,2,3]"
   ]
  },
  {
   "cell_type": "code",
   "execution_count": null,
   "id": "dbf3f551",
   "metadata": {},
   "outputs": [],
   "source": [
    "my2dArr[:2,index]"
   ]
  },
  {
   "cell_type": "markdown",
   "id": "04dc3f72",
   "metadata": {},
   "source": [
    "### Boolean Indexing"
   ]
  },
  {
   "cell_type": "markdown",
   "id": "a1f04d59",
   "metadata": {},
   "source": [
    "조건 필터링을 통해서 Boolean값을 이용한 색인"
   ]
  },
  {
   "cell_type": "code",
   "execution_count": null,
   "id": "c1253894",
   "metadata": {},
   "outputs": [],
   "source": [
    "arr = np.array(np.arange(1,8))"
   ]
  },
  {
   "cell_type": "code",
   "execution_count": null,
   "id": "a786beec",
   "metadata": {},
   "outputs": [],
   "source": [
    "arr"
   ]
  },
  {
   "cell_type": "code",
   "execution_count": null,
   "id": "2593cac2",
   "metadata": {},
   "outputs": [],
   "source": [
    "arr2d = np.array(np.arange(1,13)).reshape(3,4)"
   ]
  },
  {
   "cell_type": "code",
   "execution_count": null,
   "id": "527bfc52",
   "metadata": {},
   "outputs": [],
   "source": [
    "arr2d "
   ]
  },
  {
   "cell_type": "code",
   "execution_count": null,
   "id": "7466bc27",
   "metadata": {},
   "outputs": [],
   "source": [
    "myTrueFalse = [True, False, True, False,  False, False, False]"
   ]
  },
  {
   "cell_type": "code",
   "execution_count": null,
   "id": "235efbb3",
   "metadata": {},
   "outputs": [],
   "source": [
    "TrueFalse = np.array(myTrueFalse)"
   ]
  },
  {
   "cell_type": "code",
   "execution_count": null,
   "id": "480aeab5",
   "metadata": {},
   "outputs": [],
   "source": [
    "arr[TrueFalse]"
   ]
  },
  {
   "cell_type": "code",
   "execution_count": null,
   "id": "645d5cc8",
   "metadata": {},
   "outputs": [],
   "source": [
    "myTrueFalse = [[True, False, True, False],[True, False, True, False],[False, False, False, False]]"
   ]
  },
  {
   "cell_type": "code",
   "execution_count": null,
   "id": "9173fa23",
   "metadata": {},
   "outputs": [],
   "source": [
    "TrueFalse = np.array(myTrueFalse)"
   ]
  },
  {
   "cell_type": "code",
   "execution_count": null,
   "id": "cabe7d6a",
   "metadata": {},
   "outputs": [],
   "source": [
    "arr2d[TrueFalse]"
   ]
  },
  {
   "cell_type": "code",
   "execution_count": null,
   "id": "7a25ef8c",
   "metadata": {},
   "outputs": [],
   "source": [
    "arr2d"
   ]
  },
  {
   "cell_type": "code",
   "execution_count": null,
   "id": "aa71bd32",
   "metadata": {},
   "outputs": [],
   "source": [
    "# 조건 필터\n",
    "TrueFalse = arr2d > 2"
   ]
  },
  {
   "cell_type": "code",
   "execution_count": null,
   "id": "016ef85e",
   "metadata": {},
   "outputs": [],
   "source": [
    "TrueFalse"
   ]
  },
  {
   "cell_type": "code",
   "execution_count": null,
   "id": "9f56216b",
   "metadata": {},
   "outputs": [],
   "source": [
    "arr2d[TrueFalse]"
   ]
  },
  {
   "cell_type": "code",
   "execution_count": null,
   "id": "45c081e3",
   "metadata": {},
   "outputs": [],
   "source": [
    "arr2d[arr2d > 2]"
   ]
  },
  {
   "cell_type": "code",
   "execution_count": null,
   "id": "e5ff8c3e",
   "metadata": {},
   "outputs": [],
   "source": [
    "arr2d[arr2d <5]"
   ]
  },
  {
   "cell_type": "code",
   "execution_count": null,
   "id": "96e4d67c",
   "metadata": {},
   "outputs": [],
   "source": []
  },
  {
   "cell_type": "markdown",
   "id": "ff4c90da",
   "metadata": {},
   "source": [
    "### arange란?"
   ]
  },
  {
   "cell_type": "markdown",
   "id": "8200bd22",
   "metadata": {},
   "source": [
    "array + range = arange"
   ]
  },
  {
   "cell_type": "code",
   "execution_count": null,
   "id": "8c0be000",
   "metadata": {},
   "outputs": [],
   "source": [
    "arr = [1,2,3,4,5,6,7,8,9,10]"
   ]
  },
  {
   "cell_type": "code",
   "execution_count": null,
   "id": "92a3a5ee",
   "metadata": {},
   "outputs": [],
   "source": [
    "# start(이상), stop(미만)\n",
    "arr = np.arange(1,11)\n",
    "arr"
   ]
  },
  {
   "cell_type": "code",
   "execution_count": null,
   "id": "87d012ac",
   "metadata": {},
   "outputs": [],
   "source": [
    "#키워드를 사용해서 순서 없이\n",
    "arr = np.arange(start=1, stop=111)\n",
    "arr"
   ]
  },
  {
   "cell_type": "code",
   "execution_count": null,
   "id": "9d38591c",
   "metadata": {},
   "outputs": [],
   "source": [
    "# (start, stop, step)\n",
    "# 홀수만 생성\n",
    "arr = np.arange(1,11,2)\n",
    "arr"
   ]
  },
  {
   "cell_type": "code",
   "execution_count": null,
   "id": "a0eb7526",
   "metadata": {},
   "outputs": [],
   "source": [
    "arr = np.arange(start=1, step=2, stop=11)\n",
    "arr"
   ]
  },
  {
   "cell_type": "markdown",
   "id": "f2cc281b",
   "metadata": {},
   "source": [
    "### range (numpy와는 상관없는 python문법)"
   ]
  },
  {
   "cell_type": "code",
   "execution_count": null,
   "id": "e8d3f52d",
   "metadata": {},
   "outputs": [],
   "source": [
    "# range는 조건을 말할뿐 아직 숫자가 생성 X\n",
    "test = range(1,11)\n",
    "print(test)"
   ]
  },
  {
   "cell_type": "code",
   "execution_count": null,
   "id": "0a5795f3",
   "metadata": {},
   "outputs": [],
   "source": [
    "for i in range(1,11):\n",
    "    print(i)"
   ]
  },
  {
   "cell_type": "code",
   "execution_count": null,
   "id": "7e54da8d",
   "metadata": {},
   "outputs": [],
   "source": [
    "for i in range(1,11,2):\n",
    "    print(i)"
   ]
  },
  {
   "cell_type": "markdown",
   "id": "becf4723",
   "metadata": {},
   "source": [
    "### 1차원 정렬"
   ]
  },
  {
   "cell_type": "code",
   "execution_count": null,
   "id": "54cae9e2",
   "metadata": {},
   "outputs": [],
   "source": [
    "arr = np.array([1,10,5,8,2,4,3,6,7,9])"
   ]
  },
  {
   "cell_type": "code",
   "execution_count": null,
   "id": "cd8f899f",
   "metadata": {},
   "outputs": [],
   "source": [
    "arr"
   ]
  },
  {
   "cell_type": "code",
   "execution_count": null,
   "id": "d1b796cc",
   "metadata": {},
   "outputs": [],
   "source": [
    "mySort = np.sort(arr)"
   ]
  },
  {
   "cell_type": "code",
   "execution_count": null,
   "id": "155c4ff2",
   "metadata": {},
   "outputs": [],
   "source": [
    "mySort"
   ]
  },
  {
   "cell_type": "code",
   "execution_count": null,
   "id": "3a7919d6",
   "metadata": {},
   "outputs": [],
   "source": [
    "# 내림차순 정렬일 경우 옵션값에 -1을 지정한다.\n",
    "np.sort(arr)[::-1]"
   ]
  },
  {
   "cell_type": "markdown",
   "id": "b6ffcf36",
   "metadata": {},
   "source": [
    "### 2차원 정렬"
   ]
  },
  {
   "cell_type": "code",
   "execution_count": null,
   "id": "54901371",
   "metadata": {},
   "outputs": [],
   "source": [
    "arr2d = np.array([[5,6,7,8],\n",
    "                [4,3,2,1],\n",
    "                [10,9,12,11]])"
   ]
  },
  {
   "cell_type": "code",
   "execution_count": null,
   "id": "8d41b144",
   "metadata": {},
   "outputs": [],
   "source": [
    "arr2d.shape"
   ]
  },
  {
   "cell_type": "code",
   "execution_count": null,
   "id": "fdc95cd8",
   "metadata": {},
   "outputs": [],
   "source": [
    "arr2d"
   ]
  },
  {
   "cell_type": "code",
   "execution_count": null,
   "id": "00fbd4e7",
   "metadata": {},
   "outputs": [],
   "source": [
    "# axis는 축이 행인지, 열인지를 가리킨다.\n",
    "# axis=1하면 같은 행안에서 정렬이 된다.\n",
    "np.sort(arr2d, axis=1)"
   ]
  },
  {
   "cell_type": "code",
   "execution_count": null,
   "id": "17f3a83d",
   "metadata": {},
   "outputs": [],
   "source": [
    "arr2d"
   ]
  },
  {
   "cell_type": "code",
   "execution_count": null,
   "id": "8b3e5fee",
   "metadata": {},
   "outputs": [],
   "source": [
    "# axis=0이면 같은 열끼리 비교하고 정렬된다.\n",
    "np.sort(arr2d, axis=0)"
   ]
  },
  {
   "cell_type": "markdown",
   "id": "b8234ef8",
   "metadata": {},
   "source": [
    "### index를 반환하는 argsort"
   ]
  },
  {
   "cell_type": "code",
   "execution_count": null,
   "id": "1a33aea9",
   "metadata": {},
   "outputs": [],
   "source": [
    "arr2d = np.array([[5,6,7,8],\n",
    "                [4,3,2,1],\n",
    "                [10,9,12,11]])"
   ]
  },
  {
   "cell_type": "code",
   "execution_count": null,
   "id": "e822e686",
   "metadata": {},
   "outputs": [],
   "source": [
    "arr2d"
   ]
  },
  {
   "cell_type": "code",
   "execution_count": null,
   "id": "a4d0b78b",
   "metadata": {},
   "outputs": [],
   "source": [
    "#열 정렬(왼쪽에서 오른쪽으로)\n",
    "# argsort를 통해 출력되는 배열의 데이터는 index값을 의미\n",
    "np.argsort(arr2d, axis=1)"
   ]
  },
  {
   "cell_type": "markdown",
   "id": "01b03cf0",
   "metadata": {},
   "source": [
    "### numpy를 이용한 행렬 연산"
   ]
  },
  {
   "cell_type": "code",
   "execution_count": null,
   "id": "f78b97c9",
   "metadata": {},
   "outputs": [],
   "source": [
    "# 행렬의 덧셈\n",
    "a = np.array([[1,2,3],\n",
    "              [2,3,4]])"
   ]
  },
  {
   "cell_type": "code",
   "execution_count": null,
   "id": "0396c6e5",
   "metadata": {},
   "outputs": [],
   "source": [
    "b = np.array([[3,4,5],\n",
    "              [1,2,3]])"
   ]
  },
  {
   "cell_type": "code",
   "execution_count": null,
   "id": "0951bac0",
   "metadata": {},
   "outputs": [],
   "source": [
    "a+b"
   ]
  },
  {
   "cell_type": "code",
   "execution_count": null,
   "id": "440d965b",
   "metadata": {},
   "outputs": [],
   "source": [
    "a = np.array([[1,2,3],\n",
    "              [2,3,4]])"
   ]
  },
  {
   "cell_type": "code",
   "execution_count": null,
   "id": "a3c23872",
   "metadata": {},
   "outputs": [],
   "source": [
    "b = np.array([[1,2],\n",
    "              [3,4],\n",
    "              [5,6]])"
   ]
  },
  {
   "cell_type": "code",
   "execution_count": null,
   "id": "820dadf6",
   "metadata": {},
   "outputs": [],
   "source": [
    "a+b"
   ]
  },
  {
   "cell_type": "code",
   "execution_count": null,
   "id": "02b96a73",
   "metadata": {},
   "outputs": [],
   "source": [
    "# np.sum\n",
    "a = np.array(np.arange(1,26)).reshape(5,5)\n",
    "a"
   ]
  },
  {
   "cell_type": "code",
   "execution_count": null,
   "id": "d74e8f00",
   "metadata": {},
   "outputs": [],
   "source": [
    "# 같은 열데이터 간 더하기 \n",
    "np.sum(a,axis=0)"
   ]
  },
  {
   "cell_type": "code",
   "execution_count": null,
   "id": "3fc8a700",
   "metadata": {},
   "outputs": [],
   "source": [
    "# 같은 행데이터 간 더하기\n",
    "np.sum(a,axis=1)"
   ]
  },
  {
   "cell_type": "code",
   "execution_count": null,
   "id": "a2065eeb",
   "metadata": {},
   "outputs": [],
   "source": [
    "# 행렬의 뺄셈은 생략"
   ]
  },
  {
   "cell_type": "code",
   "execution_count": null,
   "id": "f0666b19",
   "metadata": {},
   "outputs": [],
   "source": [
    "# 행렬의 곱셈\n",
    "a = np.array([[1,2,3],\n",
    "              [2,3,4]])"
   ]
  },
  {
   "cell_type": "code",
   "execution_count": null,
   "id": "c9da15a3",
   "metadata": {},
   "outputs": [],
   "source": [
    "b = np.array([[3,4,5],\n",
    "              [1,2,3]])"
   ]
  },
  {
   "cell_type": "code",
   "execution_count": null,
   "id": "d2b12f0b",
   "metadata": {},
   "outputs": [],
   "source": [
    "a.shape, b.shape"
   ]
  },
  {
   "cell_type": "code",
   "execution_count": null,
   "id": "4abca7ac",
   "metadata": {},
   "outputs": [],
   "source": [
    "# 아다마르 곱\n",
    "a*b"
   ]
  },
  {
   "cell_type": "code",
   "execution_count": null,
   "id": "cc4737ce",
   "metadata": {},
   "outputs": [],
   "source": [
    "a = np.array(np.arange(1,10)).reshape(3,3)\n",
    "a"
   ]
  },
  {
   "cell_type": "code",
   "execution_count": null,
   "id": "bdded70c",
   "metadata": {},
   "outputs": [],
   "source": [
    "b = np.array(np.arange(1,7)).reshape(3,2)\n",
    "b"
   ]
  },
  {
   "cell_type": "code",
   "execution_count": null,
   "id": "b2312cb7",
   "metadata": {},
   "outputs": [],
   "source": [
    "a.shape, b.shape"
   ]
  },
  {
   "cell_type": "code",
   "execution_count": null,
   "id": "ab6e8d89",
   "metadata": {},
   "outputs": [],
   "source": [
    "# 행렬의 곱셈 표현1\n",
    "np.dot(a,b)"
   ]
  },
  {
   "cell_type": "code",
   "execution_count": null,
   "id": "9ce21ee1",
   "metadata": {},
   "outputs": [],
   "source": [
    "# 행렬의 곱셈 표현2\n",
    "a.dot(b)"
   ]
  },
  {
   "cell_type": "markdown",
   "id": "0ecc44f8",
   "metadata": {},
   "source": [
    "### Broadcasting"
   ]
  },
  {
   "cell_type": "code",
   "execution_count": null,
   "id": "2b9131c4",
   "metadata": {},
   "outputs": [],
   "source": [
    "a = np.array([[1,2,3],\n",
    "              [2,3,4]])"
   ]
  },
  {
   "cell_type": "code",
   "execution_count": null,
   "id": "a322ac77",
   "metadata": {},
   "outputs": [],
   "source": [
    "b = np.array([[3,3,3],\n",
    "              [3,3,3]])"
   ]
  },
  {
   "cell_type": "code",
   "execution_count": null,
   "id": "da0b467b",
   "metadata": {},
   "outputs": [],
   "source": [
    "a + b"
   ]
  },
  {
   "cell_type": "code",
   "execution_count": null,
   "id": "3e1b1d3c",
   "metadata": {},
   "outputs": [],
   "source": [
    "# broadcasting 연산\n",
    "a + 3"
   ]
  },
  {
   "cell_type": "code",
   "execution_count": null,
   "id": "b23a858e",
   "metadata": {},
   "outputs": [],
   "source": [
    "a - 3"
   ]
  },
  {
   "cell_type": "code",
   "execution_count": null,
   "id": "4c19324b",
   "metadata": {},
   "outputs": [],
   "source": [
    "# 아다마르 곱\n",
    "a * 3"
   ]
  },
  {
   "cell_type": "code",
   "execution_count": null,
   "id": "21194e2b",
   "metadata": {},
   "outputs": [],
   "source": [
    "a / 3"
   ]
  },
  {
   "cell_type": "code",
   "execution_count": null,
   "id": "e9a2f016",
   "metadata": {},
   "outputs": [],
   "source": [
    "a"
   ]
  },
  {
   "cell_type": "code",
   "execution_count": null,
   "id": "dc2de2b6",
   "metadata": {},
   "outputs": [],
   "source": [
    "b = np.array([[1],\n",
    "             [2]])"
   ]
  },
  {
   "cell_type": "code",
   "execution_count": null,
   "id": "e269ea25",
   "metadata": {},
   "outputs": [],
   "source": [
    "a.shape, b.shape"
   ]
  },
  {
   "cell_type": "code",
   "execution_count": null,
   "id": "4a7e8045",
   "metadata": {},
   "outputs": [],
   "source": [
    "# 행단위로 broadcasting연산\n",
    "a * b"
   ]
  },
  {
   "cell_type": "code",
   "execution_count": null,
   "id": "f63a3959",
   "metadata": {},
   "outputs": [],
   "source": [
    "a"
   ]
  },
  {
   "cell_type": "code",
   "execution_count": null,
   "id": "dd7e159d",
   "metadata": {},
   "outputs": [],
   "source": [
    "# 열 단위로 broadcasting연산\n",
    "b = np.array([1,2,3])"
   ]
  },
  {
   "cell_type": "code",
   "execution_count": null,
   "id": "5f5ca2e5",
   "metadata": {},
   "outputs": [],
   "source": [
    "a*b"
   ]
  },
  {
   "cell_type": "code",
   "execution_count": null,
   "id": "cfbeaca0",
   "metadata": {},
   "outputs": [],
   "source": []
  }
 ],
 "metadata": {
  "kernelspec": {
   "display_name": "Python 3",
   "language": "python",
   "name": "python3"
  },
  "language_info": {
   "codemirror_mode": {
    "name": "ipython",
    "version": 3
   },
   "file_extension": ".py",
   "mimetype": "text/x-python",
   "name": "python",
   "nbconvert_exporter": "python",
   "pygments_lexer": "ipython3",
   "version": "3.6.13"
  }
 },
 "nbformat": 4,
 "nbformat_minor": 5
}
