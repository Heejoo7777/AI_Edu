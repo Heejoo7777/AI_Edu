{
 "cells": [
  {
   "cell_type": "code",
   "execution_count": 24,
   "metadata": {},
   "outputs": [
    {
     "name": "stdout",
     "output_type": "stream",
     "text": [
      "[1 2 3 4 5]\n",
      "<class 'numpy.ndarray'>\n",
      "int32\n"
     ]
    }
   ],
   "source": [
    "#Numpy 기초\n",
    "#배열 객체인 ndarray 생성하기 (ndarray: N-dimension array)\n",
    "import numpy as np #Numpy 패키지를 np로 불러옴\n",
    "\n",
    "#array(): 매개 변수로 사용되는 리스트, 튜플, 배열 형의 데이터를 이용하여 ndarray 객체를 생성한다. \n",
    "data = np.array([1, 2, 3 ,4 ,5]) #1차원 배열\n",
    "print(data)\n",
    "print(type(data))\n",
    "print(data.dtype) #각 요소의 data type은 int32 (32비트 정수형)"
   ]
  },
  {
   "cell_type": "code",
   "execution_count": 23,
   "metadata": {},
   "outputs": [
    {
     "name": "stdout",
     "output_type": "stream",
     "text": [
      "[[-0.79751389  0.96995918  0.2019253 ]\n",
      " [ 1.21072162  0.9033095  -1.63066289]]\n",
      "(2, 3)\n",
      "float64\n"
     ]
    }
   ],
   "source": [
    "#2차원 배열 객체 생성하기\n",
    "import numpy as np\n",
    "\n",
    "#random,randn():  가우시안 정규 분포를 갖는 랜덤 수를 생성한다.\n",
    "data = np.random.randn(2,3) #2행 3열 실수형 랜덤 수 발생\n",
    "print(data) \n",
    "print(data.shape) #(행, 열) 출력\n",
    "print(data.dtype) #각 데이터의 data type이 float64임"
   ]
  },
  {
   "cell_type": "code",
   "execution_count": 14,
   "metadata": {},
   "outputs": [
    {
     "name": "stdout",
     "output_type": "stream",
     "text": [
      "[0. 0. 0. 0. 0. 0. 0. 0. 0. 0.]\n",
      "float64\n",
      "\n",
      "[[0. 0. 0.]\n",
      " [0. 0. 0.]]\n",
      "float64\n",
      "\n",
      "[[0 0 0]\n",
      " [0 0 0]]\n",
      "int32\n"
     ]
    }
   ],
   "source": [
    "#ndarray 객체 0으로 초기화하기 (zeros()이용)+(dtype=np.int32로 정수형 만들기)\n",
    "import numpy as np\n",
    "\n",
    "data1 = np.zeros(10)#10개의 0.0 요소로 이루어진 배열 가짐. 모두 float형임\n",
    "print(data1)\n",
    "print(data1.dtype)\n",
    "print()\n",
    "\n",
    "data2 = np.zeros((2, 3))#2행 3열의 0.0으로 초기화된 64비트 실수형 ndarray 객체 생성\n",
    "print(data2)\n",
    "print(data2.dtype)\n",
    "print()\n",
    "\n",
    "data3 = np.zeros((2, 3), dtype = np.int32)#data2애서 float형을 int형으로 바꿈\n",
    "print(data3)\n",
    "print(data3.dtype)"
   ]
  },
  {
   "cell_type": "code",
   "execution_count": 17,
   "metadata": {},
   "outputs": [
    {
     "name": "stdout",
     "output_type": "stream",
     "text": [
      "[1. 1. 1. 1. 1. 1. 1.]\n",
      "\n",
      "[[1 1 1 1]\n",
      " [1 1 1 1]\n",
      " [1 1 1 1]]\n",
      "\n"
     ]
    }
   ],
   "source": [
    "#ndarray 객체 1으로 초기화하기 (ones()이용)+(dtype=np.int32로 정수형 만들기)\n",
    "import numpy as np\n",
    "data1 = np.ones(7)#7개의 1.0 요소로 이루어진 배열 가짐. 모두 float형임\n",
    "print(data1)\n",
    "print()\n",
    "\n",
    "data2 = np.ones((3,4), dtype=np.int32)#요소를 모두 정수형으로\n",
    "print(data2)\n",
    "print()"
   ]
  },
  {
   "cell_type": "code",
   "execution_count": 22,
   "metadata": {},
   "outputs": [
    {
     "name": "stdout",
     "output_type": "stream",
     "text": [
      "[ 10  20  30  40  50  60  70  80  90 100 110 120]\n",
      "data[2]:  30\n",
      "data[5:8]:  [60 70 80]\n"
     ]
    }
   ],
   "source": [
    "#Numpy의 arange() 메소드 (참고: 파이썬의 range메소드랑 똑같아)\n",
    "import numpy as np\n",
    "\n",
    "data = np.arange(10,121,10)\n",
    "print(data)\n",
    "print('data[2]: ',data[2])\n",
    "print('data[5:8]: ',data[5:8])"
   ]
  },
  {
   "cell_type": "code",
   "execution_count": 27,
   "metadata": {},
   "outputs": [
    {
     "name": "stdout",
     "output_type": "stream",
     "text": [
      "data:  [[ 1  2  3  4  5]\n",
      " [ 6  7  8  9 10]\n",
      " [11 12 13 14 15]]\n",
      "data[2][3]:  14\n",
      "data[0][1:]:  [2 3 4 5]\n",
      "data[0]:  [1 2 3 4 5]\n",
      "data[1,2]:  8\n",
      "\n"
     ]
    }
   ],
   "source": [
    "#2차원 배열의 요소 추출\n",
    "import numpy as np\n",
    "\n",
    "data = np.array([[1, 2, 3, 4, 5], [6, 7, 8, 9, 10], [11, 12, 13, 14, 15]])\n",
    "print('data: ', data)\n",
    "print('data[2][3]: ', data[2][3])\n",
    "print('data[0][1:]: ', data[0][1:])\n",
    "print('data[0]: ', data[0])\n",
    "print('data[1,2]: ', data[1,2])\n",
    "print()"
   ]
  },
  {
   "cell_type": "code",
   "execution_count": 30,
   "metadata": {},
   "outputs": [
    {
     "name": "stdout",
     "output_type": "stream",
     "text": [
      "[[ 20  40  60  80]\n",
      " [100 120 140 160]\n",
      " [180 200 220 240]]\n",
      "[[  100   400   900  1600]\n",
      " [ 2500  3600  4900  6400]\n",
      " [ 8100 10000 12100 14400]]\n",
      "[[False False False False]\n",
      " [False False False False]\n",
      " [False False False False]]\n"
     ]
    }
   ],
   "source": [
    "#ndarray 배열의 산술 연산\n",
    "import numpy as np\n",
    "\n",
    "a = np.array([[10, 20, 30, 40], [50, 60, 70, 80], [90, 100, 110, 120]])\n",
    "\n",
    "b = a*2 #a의 각 요소를 2배로\n",
    "print(b)\n",
    "\n",
    "c = a*a #a의 각 요소를 곱해줌\n",
    "print(c)\n",
    "\n",
    "print(a>b) #각 요소를 비교"
   ]
  },
  {
   "cell_type": "code",
   "execution_count": 42,
   "metadata": {},
   "outputs": [
    {
     "name": "stdout",
     "output_type": "stream",
     "text": [
      "[[ 10   5  35  70]\n",
      " [ 90 100  23  80]\n",
      " [ 27 100  28  52]]\n",
      "합계:  620\n",
      "평균:  51.666666666666664\n",
      "최댓값:  100\n",
      "최솟값 5\n",
      "\n",
      "[ 90 100  35  80]\n",
      "[ 5 23 27]\n",
      "\n",
      "[1 1 0 1] [3 1 1]\n"
     ]
    }
   ],
   "source": [
    "#배열의 통계 메소드 (sum, mean, max, min, argmax, argmin, axis가 0이면 x축 기준&1이면 y축 기준))\n",
    "import numpy as np\n",
    "\n",
    "a = np.array([[10, 5, 35, 70], [90, 100, 23, 80], [27, 100, 28, 52]])\n",
    "print(a)\n",
    "print('합계: ', a.sum()) #배열의 모든 요소의 합계\n",
    "print('평균: ', a.mean()) #배열의 모든 요소의 평균값 반환\n",
    "print('최댓값: ', a.max()) #배열의 모든 요소 값 중에서 최댓값\n",
    "print('최솟값', a.min()) #배열의 모든 요소 값 중에서 최솟값\n",
    "print()\n",
    "\n",
    "print(a.max(axis=0)) #x축 기준이므로 수직인 열단위로 따짐\n",
    "print(a.min(axis=1)) #y축 기준이므로 수직인 행단위로 따짐\n",
    "print()\n",
    "\n",
    "index1 = np.argmax(a, axis=0)\n",
    "index2 = np.argmax(a, axis=1)\n",
    "print(index1, index2)"
   ]
  },
  {
   "cell_type": "code",
   "execution_count": 53,
   "metadata": {},
   "outputs": [
    {
     "name": "stdout",
     "output_type": "stream",
     "text": [
      "[[ 0.30561053 -0.30579309 -1.23105308 -1.01901961]\n",
      " [ 1.14969812 -1.02579364 -0.48364043  0.74608716]\n",
      " [-1.11298419 -1.01582296 -0.38065325  0.39066609]] \n",
      "\n",
      "[[ True False False False]\n",
      " [ True False False  True]\n",
      " [False False False  True]] \n",
      "\n",
      "8 \n",
      "\n",
      "[[  7  20  30  40]\n",
      " [  7  60  70   7]\n",
      " [ 90 100 110   7]] \n",
      "\n"
     ]
    }
   ],
   "source": [
    "#배열에 조건식 사용 (sum(), where(조건식, true일때 값, false일때 값))\n",
    "import numpy as np\n",
    "\n",
    "a = np.random.randn(3, 4) #3행 4열 실수형 랜덤 수 발생\n",
    "print(a,'\\n')\n",
    "\n",
    "print(a>0,'\\n') #각 요소가 양수인지 체크\n",
    "\n",
    "total = (a<0).sum() #sum()은 총 갯수를 의미(더하는거 아님\n",
    "print(total,'\\n')\n",
    "\n",
    "a2 = np.where(a>0, 7, data) # 조건식이 true일때 7, false일때 data\n",
    "print(a2,'\\n')"
   ]
  },
  {
   "cell_type": "code",
   "execution_count": 56,
   "metadata": {},
   "outputs": [
    {
     "name": "stdout",
     "output_type": "stream",
     "text": [
      "[[ 10   5  35  70]\n",
      " [ 90 100  23  80]\n",
      " [ 27 100  28  52]] \n",
      "\n",
      "[[ 10   5  23  52]\n",
      " [ 27 100  28  70]\n",
      " [ 90 100  35  80]] \n",
      "\n",
      "[[  5  10  23  52]\n",
      " [ 27  28  70 100]\n",
      " [ 35  80  90 100]] \n",
      "\n"
     ]
    }
   ],
   "source": [
    "#배열의 요소 정렬(sort(k): k가 0이면 x축 기준, 1이면 y축 기준)\n",
    "import numpy as np\n",
    "a = np.array([[10, 5, 35, 70], [90, 100, 23, 80], [27, 100, 28, 52]])\n",
    "print(a,'\\n')\n",
    "\n",
    "a.sort(0) #x축 기준이므로, 세로로 정렬\n",
    "print(a,'\\n')\n",
    "\n",
    "a.sort(1) #y축 기준이므로, 가로로 정렬\n",
    "print(a,'\\n')"
   ]
  },
  {
   "cell_type": "code",
   "execution_count": 62,
   "metadata": {},
   "outputs": [
    {
     "name": "stdout",
     "output_type": "stream",
     "text": [
      "a:  [0 1 2 3 4 5 6 7 8 9]\n",
      "b:  [ 0  1  2 10  3  4  5  6  7  8  9]\n",
      "x:  [[1 1 1]\n",
      " [2 2 2]\n",
      " [3 3 3]] \n",
      "\n",
      "y:  [[ 1  1  1]\n",
      " [10 10 10]\n",
      " [ 2  2  2]\n",
      " [ 3  3  3]] \n",
      "\n",
      "y:  [[ 1 10  1  1]\n",
      " [ 2 10  2  2]\n",
      " [ 3 10  3  3]] \n",
      "\n"
     ]
    }
   ],
   "source": [
    "#배열에 열과 행 삽입 (insert())\n",
    "import numpy as np\n",
    "\n",
    "a = np.arange(10) #0~9까지 배열\n",
    "print('a: ', a)\n",
    "\n",
    "b = np.insert(a, 3, 10) #a의 인덱스 3의 요소에 10의 값 대입\n",
    "print('b: ',b)\n",
    "\n",
    "x = np.array([[1, 1, 1], [2, 2, 2], [3, 3, 3]])\n",
    "print('x: ', x, '\\n')\n",
    "\n",
    "y = np.insert(x, 1, 10, axis=0) #x배열을 열 방향으로(?) 인덱스 1인 요소에 모든 요소 값이 10인 행을 하나 삽입한다.\n",
    "print('y: ', y, '\\n')\n",
    "\n",
    "y = np.insert(x, 1, 10, axis=1) #x배열을 행 방향으로(?) 인덱스 1인 요소에 모든 요소 값이 10인 열을 하나 삽입한다.\n",
    "print('y: ', y, '\\n')"
   ]
  },
  {
   "cell_type": "code",
   "execution_count": null,
   "metadata": {},
   "outputs": [],
   "source": []
  }
 ],
 "metadata": {
  "kernelspec": {
   "display_name": "Python 3",
   "language": "python",
   "name": "python3"
  },
  "language_info": {
   "codemirror_mode": {
    "name": "ipython",
    "version": 3
   },
   "file_extension": ".py",
   "mimetype": "text/x-python",
   "name": "python",
   "nbconvert_exporter": "python",
   "pygments_lexer": "ipython3",
   "version": "3.8.5"
  }
 },
 "nbformat": 4,
 "nbformat_minor": 4
}
