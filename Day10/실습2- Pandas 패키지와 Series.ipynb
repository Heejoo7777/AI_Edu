{
 "cells": [
  {
   "cell_type": "code",
   "execution_count": 2,
   "metadata": {},
   "outputs": [
    {
     "name": "stdout",
     "output_type": "stream",
     "text": [
      "0    1\n",
      "1    2\n",
      "2    3\n",
      "3    4\n",
      "4    5\n",
      "dtype: int64\n"
     ]
    }
   ],
   "source": [
    "#Pandas 패키지: Series와 DataFrame의 두가지 자료구조 모듈이 핵심\n",
    "import pandas as pd #Pandas패키지를 별칭 pd로 불러옴\n",
    "\n",
    "obj = pd.Series([1, 2, 3, 4, 5]) #pd.Series클래스와 리스트를 이용하여 객체 생성\n",
    "print(obj)"
   ]
  },
  {
   "cell_type": "code",
   "execution_count": 5,
   "metadata": {},
   "outputs": [
    {
     "name": "stdout",
     "output_type": "stream",
     "text": [
      "[1 2 3 4 5]\n",
      "RangeIndex(start=0, stop=5, step=1)\n",
      "2\n"
     ]
    }
   ],
   "source": [
    "#Series 객체의 값과 인덱스 \n",
    "import pandas as pd\n",
    "obj = pd.Series([1, 2, 3, 4, 5])\n",
    "\n",
    "print(obj.values) #객체의 값 출력 \n",
    "print(obj.index)  #객체의 인덱스 출력\n",
    "\n",
    "print(obj[1])"
   ]
  },
  {
   "cell_type": "code",
   "execution_count": 10,
   "metadata": {},
   "outputs": [
    {
     "name": "stdout",
     "output_type": "stream",
     "text": [
      "a    10\n",
      "b    20\n",
      "c    30\n",
      "d    40\n",
      "e    50\n",
      "dtype: int64 \n",
      "\n",
      "30 \n",
      "\n",
      "d    40\n",
      "a    10\n",
      "dtype: int64 \n",
      "\n",
      "b    20\n",
      "c    30\n",
      "d    40\n",
      "dtype: int64 \n",
      "\n"
     ]
    }
   ],
   "source": [
    "#Series 객체의 인덱스 설정\n",
    "\n",
    "import pandas as pd\n",
    "obj = pd.Series([10, 20, 30, 40, 50], index = ['a', 'b', 'c', 'd', 'e']) #인덱스를 ['a', 'b', 'c', 'd', 'e']로 설정\n",
    "\n",
    "print(obj, '\\n') \n",
    "\n",
    "print(obj['c'], '\\n') #인덱스 'c'에 해당되는 요소값 출력\n",
    "\n",
    "print(obj[['d', 'a']], '\\n') #인덱스 'd'와 'a'에 해당되는 요소값 출력(리스트 이용해서[[]]?)\n",
    "\n",
    "print(obj[1:4], '\\n') #인덱스 1~3까지의 요소값인 "
   ]
  },
  {
   "cell_type": "code",
   "execution_count": 17,
   "metadata": {},
   "outputs": [
    {
     "name": "stdout",
     "output_type": "stream",
     "text": [
      "0     50\n",
      "1    100\n",
      "2    150\n",
      "3    200\n",
      "4    250\n",
      "dtype: int64 \n",
      "\n",
      "3    40\n",
      "4    50\n",
      "dtype: int64\n"
     ]
    }
   ],
   "source": [
    "#Series 객체의 산술연산과 조건식\n",
    "import pandas as pd\n",
    "obj = pd.Series([10, 20, 30, 40, 50])\n",
    "\n",
    "print(obj*5, '\\n')  #각 요소에 5곱함\n",
    "\n",
    "print(obj[obj>30]) #각 요소 중30보다 큰 요소 출력"
   ]
  },
  {
   "cell_type": "code",
   "execution_count": 19,
   "metadata": {},
   "outputs": [
    {
     "name": "stdout",
     "output_type": "stream",
     "text": [
      "강아지: 30마리\n",
      "고양이: 20마리\n",
      "기타: 50마리\n"
     ]
    }
   ],
   "source": [
    "#Series 객체에서 for문 사용 (.items이용)\n",
    "#items() 메소드는 Series 객체에 있는 요소를 튜플 형태, (index, value)로 반환함\n",
    "import pandas as pd\n",
    "animal = pd.Series([30, 20, 50], index = ['강아지', '고양이', '기타']) \n",
    "\n",
    "for i, v in animal.items(): #i에는 animal의 인덱스 저장, v에는 객체의 요소 값 저장 \n",
    "    print('%s: %d마리' %(i, v))"
   ]
  },
  {
   "cell_type": "code",
   "execution_count": null,
   "metadata": {},
   "outputs": [],
   "source": []
  }
 ],
 "metadata": {
  "kernelspec": {
   "display_name": "Python 3",
   "language": "python",
   "name": "python3"
  },
  "language_info": {
   "codemirror_mode": {
    "name": "ipython",
    "version": 3
   },
   "file_extension": ".py",
   "mimetype": "text/x-python",
   "name": "python",
   "nbconvert_exporter": "python",
   "pygments_lexer": "ipython3",
   "version": "3.8.5"
  }
 },
 "nbformat": 4,
 "nbformat_minor": 4
}
