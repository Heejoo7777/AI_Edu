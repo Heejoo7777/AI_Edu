{
 "cells": [
  {
   "cell_type": "code",
   "execution_count": 8,
   "metadata": {},
   "outputs": [
    {
     "name": "stdout",
     "output_type": "stream",
     "text": [
      "['지역', '학교명', '학급수', '학생수', '교사수']\n",
      "[['서울특별시 서초구', '서울교육대학교부설초등학교', '28', '616', '32'], ['서울특별시 종로구', '서울대학교사범대학부설초등학교', '31', '632', '35'], ['서울특별시 강남구', '서울개일초등학교', '31', '837', '38'], ['서울특별시 강남구', '서울구룡초등학교', '25', '492', '30'], ['서울특별시 강남구', '서울논현초등학교', '19', '339', '22']]\n"
     ]
    }
   ],
   "source": [
    "#csv 파일 분석, csv 데이터 2차원 리스트에 저장하기\n",
    "import csv\n",
    "f= open('school_2019.csv', 'r', encoding='utf8')\n",
    "lines = csv.reader(f)\n",
    "\n",
    "header = next(lines) #header 부분 받아옴\n",
    "print(header)\n",
    "\n",
    "list_data = []\n",
    "for line in lines:\n",
    "    list_data.append(line[:]) #리스트에 각 행을 저장, line[:] 한 행을 의미\n",
    "    \n",
    "print(list_data[:5]) #리스트 앞 5줄만 출력 \n",
    "f.close()"
   ]
  },
  {
   "cell_type": "code",
   "execution_count": null,
   "metadata": {},
   "outputs": [],
   "source": []
  }
 ],
 "metadata": {
  "kernelspec": {
   "display_name": "Python 3",
   "language": "python",
   "name": "python3"
  },
  "language_info": {
   "codemirror_mode": {
    "name": "ipython",
    "version": 3
   },
   "file_extension": ".py",
   "mimetype": "text/x-python",
   "name": "python",
   "nbconvert_exporter": "python",
   "pygments_lexer": "ipython3",
   "version": "3.8.5"
  }
 },
 "nbformat": 4,
 "nbformat_minor": 4
}
