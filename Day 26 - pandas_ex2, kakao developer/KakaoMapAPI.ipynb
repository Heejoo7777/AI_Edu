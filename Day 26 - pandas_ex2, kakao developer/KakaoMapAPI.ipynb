{
 "cells": [
  {
   "cell_type": "code",
   "execution_count": 1,
   "metadata": {},
   "outputs": [],
   "source": [
    "import requests\n",
    "import json\n",
    "import pandas as pd"
   ]
  },
  {
   "cell_type": "markdown",
   "metadata": {},
   "source": [
    "### Kakao Map API Test"
   ]
  },
  {
   "cell_type": "code",
   "execution_count": 2,
   "metadata": {},
   "outputs": [],
   "source": [
    "url = \"https://dapi.kakao.com/v2/local/geo/coord2regioncode.json?x=127.1086228&y=37.4012191\"\n",
    "headers = {\"Authorization\": \"KakaoAK 내RESTAPI번호쓰기\"}"
   ]
  },
  {
   "cell_type": "code",
   "execution_count": 3,
   "metadata": {},
   "outputs": [],
   "source": [
    "api_test = requests.get(url,headers=headers)"
   ]
  },
  {
   "cell_type": "code",
   "execution_count": 4,
   "metadata": {},
   "outputs": [],
   "source": [
    "url_text = json.loads(api_test.text)"
   ]
  },
  {
   "cell_type": "code",
   "execution_count": 5,
   "metadata": {},
   "outputs": [
    {
     "data": {
      "text/plain": [
       "{'meta': {'total_count': 2},\n",
       " 'documents': [{'region_type': 'B',\n",
       "   'code': '4113510900',\n",
       "   'address_name': '경기도 성남시 분당구 삼평동',\n",
       "   'region_1depth_name': '경기도',\n",
       "   'region_2depth_name': '성남시 분당구',\n",
       "   'region_3depth_name': '삼평동',\n",
       "   'region_4depth_name': '',\n",
       "   'x': 127.1163593869371,\n",
       "   'y': 37.40612091848614},\n",
       "  {'region_type': 'H',\n",
       "   'code': '4113565500',\n",
       "   'address_name': '경기도 성남시 분당구 삼평동',\n",
       "   'region_1depth_name': '경기도',\n",
       "   'region_2depth_name': '성남시 분당구',\n",
       "   'region_3depth_name': '삼평동',\n",
       "   'region_4depth_name': '',\n",
       "   'x': 127.1163593869371,\n",
       "   'y': 37.40612091848614}]}"
      ]
     },
     "execution_count": 5,
     "metadata": {},
     "output_type": "execute_result"
    }
   ],
   "source": [
    "url_text"
   ]
  },
  {
   "cell_type": "code",
   "execution_count": 6,
   "metadata": {},
   "outputs": [
    {
     "data": {
      "text/plain": [
       "'경기도 성남시 분당구 삼평동'"
      ]
     },
     "execution_count": 6,
     "metadata": {},
     "output_type": "execute_result"
    }
   ],
   "source": [
    "url_text['documents'][0]['address_name']"
   ]
  },
  {
   "cell_type": "code",
   "execution_count": 9,
   "metadata": {},
   "outputs": [],
   "source": [
    "def getLatLng(addr):\n",
    "  url = 'https://dapi.kakao.com/v2/local/search/address.json?query='+addr\n",
    "  headers = {\"Authorization\": \"KakaoAK 내RESTAPI번호쓰기\"}\n",
    "  result = json.loads(str(requests.get(url,headers=headers).text))\n",
    "  match_first = result['documents'][0]['address']\n",
    "\n",
    "  return float(match_first['y']),float(match_first['x'])"
   ]
  },
  {
   "cell_type": "code",
   "execution_count": 10,
   "metadata": {},
   "outputs": [
    {
     "name": "stdout",
     "output_type": "stream",
     "text": [
      "(37.4061209184777, 127.116359386936)\n"
     ]
    }
   ],
   "source": [
    "ret = getLatLng('경기도 성남시 분당구 삼평동')\n",
    "print(ret)"
   ]
  },
  {
   "cell_type": "code",
   "execution_count": null,
   "metadata": {},
   "outputs": [],
   "source": []
  }
 ],
 "metadata": {
  "kernelspec": {
   "display_name": "Python 3",
   "language": "python",
   "name": "python3"
  },
  "language_info": {
   "codemirror_mode": {
    "name": "ipython",
    "version": 3
   },
   "file_extension": ".py",
   "mimetype": "text/x-python",
   "name": "python",
   "nbconvert_exporter": "python",
   "pygments_lexer": "ipython3",
   "version": "3.8.5"
  }
 },
 "nbformat": 4,
 "nbformat_minor": 5
}
