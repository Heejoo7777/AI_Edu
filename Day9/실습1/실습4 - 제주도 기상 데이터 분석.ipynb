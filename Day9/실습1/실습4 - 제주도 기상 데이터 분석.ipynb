{
 "cells": [
  {
   "cell_type": "code",
   "execution_count": 1,
   "metadata": {},
   "outputs": [
    {
     "name": "stdout",
     "output_type": "stream",
     "text": [
      "['지점', '지점명', '일시', '최저기온(°C)', '최고기온(°C)', '일강수량(mm)', '평균 상대습도(%)']\n",
      "['184', '제주', '2019-01-01', '4.8', '7', '0', '61.1']\n",
      "['184', '제주', '2019-01-02', '4.5', '6.1', '', '60.9']\n",
      "['184', '제주', '2019-01-03', '3.5', '8', '', '60.1']\n",
      "['184', '제주', '2019-01-04', '2.6', '10', '1.6', '77.5']\n"
     ]
    }
   ],
   "source": [
    "#제주도 데이터 구조 앞 5줄 보기 (참고: line[0]는 열의 첫번째줄임!!)\n",
    "import csv\n",
    "\n",
    "f = open('jeju_2019.csv', 'r', encoding='utf-8')\n",
    "lines = csv.reader(f)\n",
    "\n",
    "for i in range(5):\n",
    "    verticalL = next(lines) #가로줄 저장\n",
    "    print(verticalL)\n",
    "\n",
    "f.close()"
   ]
  },
  {
   "cell_type": "code",
   "execution_count": 7,
   "metadata": {},
   "outputs": [
    {
     "name": "stdout",
     "output_type": "stream",
     "text": [
      "지점명 일시 최저기온(°C)\n",
      "제주 2019-01-01 4.8\n",
      "제주 2019-01-02 4.5\n",
      "제주 2019-01-03 3.5\n",
      "제주 2019-01-04 2.6\n",
      "제주 2019-01-05 5.2\n",
      "제주 2019-01-06 4.5\n",
      "제주 2019-01-07 3.1\n",
      "제주 2019-01-08 4.5\n",
      "제주 2019-01-09 2.2\n",
      "제주 2019-01-10 5.6\n",
      "제주 2019-01-11 5.9\n",
      "제주 2019-01-12 8.1\n",
      "제주 2019-01-13 6.6\n",
      "제주 2019-01-14 5.5\n",
      "제주 2019-01-15 3.6\n",
      "제주 2019-01-16 2\n",
      "제주 2019-01-17 3.9\n",
      "제주 2019-01-18 3.9\n",
      "제주 2019-01-19 3.6\n",
      "제주 2019-01-20 3.9\n",
      "제주 2019-01-21 3.9\n",
      "제주 2019-01-22 5.8\n",
      "제주 2019-01-23 6.7\n",
      "제주 2019-01-24 3.4\n",
      "제주 2019-01-25 3.6\n",
      "제주 2019-01-26 2.9\n",
      "제주 2019-01-27 2.4\n",
      "제주 2019-01-28 4.8\n",
      "제주 2019-01-29 2.8\n",
      "제주 2019-01-30 6.8\n",
      "제주 2019-01-31 3.3\n"
     ]
    }
   ],
   "source": [
    "#지점명이 제주이고, 1월의 최저기온 출력\n",
    "import csv\n",
    "\n",
    "f = open('jeju_2019.csv', 'r', encoding='utf-8')\n",
    "lines = csv.reader(f)\n",
    "\n",
    "header = next(lines)\n",
    "print(header[1],header[2],header[3])\n",
    "\n",
    "for line in lines:\n",
    "    if line[1]=='제주' and line[2][5:7]=='01': #지점명이 제주이고, 1월인 경우\n",
    "        print(line[1],line[2], line[3])\n",
    "        \n",
    "f.close()"
   ]
  },
  {
   "cell_type": "code",
   "execution_count": 5,
   "metadata": {},
   "outputs": [
    {
     "name": "stdout",
     "output_type": "stream",
     "text": [
      "1월 일수: 31\n",
      "1월 최저기온 평균: 4.3\n"
     ]
    }
   ],
   "source": [
    "#제주 최저기온 평균\n",
    "import csv\n",
    "\n",
    "f = open('jeju_2019.csv', 'r', encoding='utf-8')\n",
    "lines = csv.reader(f)\n",
    "\n",
    "header = next(lines)\n",
    "\n",
    "month=1\n",
    "sum=0\n",
    "num_day = 0\n",
    "\n",
    "for line in lines:\n",
    "    if line[1]=='제주' and int(line[2][5:7])==month: #지점명이 제주이고, 1월인 경우\n",
    "        sum+=float(line[3])\n",
    "        num_day+=1\n",
    "        \n",
    "avg = sum/num_day\n",
    "\n",
    "print('%d월 일수: %d'%(month, num_day))\n",
    "print('%d월 최저기온 평균: %.1f' %(month, avg))\n",
    "        \n",
    "f.close()"
   ]
  }
 ],
 "metadata": {
  "kernelspec": {
   "display_name": "Python 3",
   "language": "python",
   "name": "python3"
  },
  "language_info": {
   "codemirror_mode": {
    "name": "ipython",
    "version": 3
   },
   "file_extension": ".py",
   "mimetype": "text/x-python",
   "name": "python",
   "nbconvert_exporter": "python",
   "pygments_lexer": "ipython3",
   "version": "3.8.5"
  }
 },
 "nbformat": 4,
 "nbformat_minor": 4
}
