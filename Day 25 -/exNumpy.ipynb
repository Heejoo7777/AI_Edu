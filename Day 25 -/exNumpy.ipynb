{
 "cells": [
  {
   "cell_type": "markdown",
   "id": "9996eee1",
   "metadata": {},
   "source": [
    "### Numpy Version"
   ]
  },
  {
   "cell_type": "code",
   "execution_count": 7,
   "id": "56b9897d",
   "metadata": {},
   "outputs": [],
   "source": [
    "import numpy as np"
   ]
  },
  {
   "cell_type": "code",
   "execution_count": 9,
   "id": "13986af7",
   "metadata": {},
   "outputs": [
    {
     "data": {
      "text/plain": [
       "'1.19.2'"
      ]
     },
     "execution_count": 9,
     "metadata": {},
     "output_type": "execute_result"
    }
   ],
   "source": [
    "np.__version__"
   ]
  },
  {
   "cell_type": "markdown",
   "id": "4a7e9283",
   "metadata": {},
   "source": [
    "### ndarray 생성"
   ]
  },
  {
   "cell_type": "code",
   "execution_count": 13,
   "id": "61c4ecab",
   "metadata": {},
   "outputs": [],
   "source": [
    "arr = np.array([1,2,3,4], dtype=int)"
   ]
  },
  {
   "cell_type": "code",
   "execution_count": 17,
   "id": "f4a7e275",
   "metadata": {},
   "outputs": [
    {
     "data": {
      "text/plain": [
       "array([1, 2, 3, 4])"
      ]
     },
     "execution_count": 17,
     "metadata": {},
     "output_type": "execute_result"
    }
   ],
   "source": [
    "arr"
   ]
  },
  {
   "cell_type": "code",
   "execution_count": 18,
   "id": "f7cde872",
   "metadata": {},
   "outputs": [
    {
     "data": {
      "text/plain": [
       "numpy.ndarray"
      ]
     },
     "execution_count": 18,
     "metadata": {},
     "output_type": "execute_result"
    }
   ],
   "source": [
    "type(arr)"
   ]
  },
  {
   "cell_type": "code",
   "execution_count": 19,
   "id": "a9033eb7",
   "metadata": {},
   "outputs": [
    {
     "data": {
      "text/plain": [
       "(4,)"
      ]
     },
     "execution_count": 19,
     "metadata": {},
     "output_type": "execute_result"
    }
   ],
   "source": [
    "arr.shape"
   ]
  },
  {
   "cell_type": "code",
   "execution_count": 20,
   "id": "2ea5d8b8",
   "metadata": {},
   "outputs": [],
   "source": [
    "# 1차원 리스트\n",
    "myList = [1,2,3,4]   # python List\n",
    "arr = np.array(myList, dtype=float)"
   ]
  },
  {
   "cell_type": "code",
   "execution_count": 21,
   "id": "96e72846",
   "metadata": {},
   "outputs": [
    {
     "data": {
      "text/plain": [
       "array([1., 2., 3., 4.])"
      ]
     },
     "execution_count": 21,
     "metadata": {},
     "output_type": "execute_result"
    }
   ],
   "source": [
    "arr"
   ]
  },
  {
   "cell_type": "code",
   "execution_count": 22,
   "id": "3db22378",
   "metadata": {},
   "outputs": [],
   "source": [
    "# 퀴즈\n",
    "myList = [1.3, 2.3, 3.3, 4.3]\n",
    "arr = np.array(myList, dtype=int)"
   ]
  },
  {
   "cell_type": "code",
   "execution_count": 23,
   "id": "7fe4b086",
   "metadata": {},
   "outputs": [
    {
     "data": {
      "text/plain": [
       "array([1, 2, 3, 4])"
      ]
     },
     "execution_count": 23,
     "metadata": {},
     "output_type": "execute_result"
    }
   ],
   "source": [
    "arr"
   ]
  },
  {
   "cell_type": "code",
   "execution_count": 24,
   "id": "33e8ab2e",
   "metadata": {},
   "outputs": [],
   "source": [
    "# 2차원 리스트\n",
    "myList2 = [[1,2,3,4],\n",
    "           [5,6,7,8]]"
   ]
  },
  {
   "cell_type": "code",
   "execution_count": 25,
   "id": "ca9bd6a4",
   "metadata": {},
   "outputs": [
    {
     "data": {
      "text/plain": [
       "[[1, 2, 3, 4], [5, 6, 7, 8]]"
      ]
     },
     "execution_count": 25,
     "metadata": {},
     "output_type": "execute_result"
    }
   ],
   "source": [
    "myList2"
   ]
  },
  {
   "cell_type": "code",
   "execution_count": 26,
   "id": "3a4aecd8",
   "metadata": {},
   "outputs": [],
   "source": [
    "arr = np.array(myList2)"
   ]
  },
  {
   "cell_type": "code",
   "execution_count": 27,
   "id": "2175fe5c",
   "metadata": {},
   "outputs": [
    {
     "data": {
      "text/plain": [
       "(2, 4)"
      ]
     },
     "execution_count": 27,
     "metadata": {},
     "output_type": "execute_result"
    }
   ],
   "source": [
    "arr.shape"
   ]
  },
  {
   "cell_type": "code",
   "execution_count": 28,
   "id": "b3817c1b",
   "metadata": {},
   "outputs": [
    {
     "data": {
      "text/plain": [
       "numpy.ndarray"
      ]
     },
     "execution_count": 28,
     "metadata": {},
     "output_type": "execute_result"
    }
   ],
   "source": [
    "type(arr)"
   ]
  },
  {
   "cell_type": "code",
   "execution_count": 29,
   "id": "b8198cac",
   "metadata": {},
   "outputs": [
    {
     "data": {
      "text/plain": [
       "array([[1, 2, 3, 4],\n",
       "       [5, 6, 7, 8]])"
      ]
     },
     "execution_count": 29,
     "metadata": {},
     "output_type": "execute_result"
    }
   ],
   "source": [
    "arr"
   ]
  },
  {
   "cell_type": "code",
   "execution_count": 30,
   "id": "a7813202",
   "metadata": {},
   "outputs": [],
   "source": [
    "myList2 = [[1.3,2,3,4],\n",
    "           [5,6,7,8]]"
   ]
  },
  {
   "cell_type": "code",
   "execution_count": 31,
   "id": "30bf4620",
   "metadata": {},
   "outputs": [],
   "source": [
    "arr = np.array(myList2)"
   ]
  },
  {
   "cell_type": "code",
   "execution_count": 32,
   "id": "d156a285",
   "metadata": {},
   "outputs": [
    {
     "data": {
      "text/plain": [
       "array([[1.3, 2. , 3. , 4. ],\n",
       "       [5. , 6. , 7. , 8. ]])"
      ]
     },
     "execution_count": 32,
     "metadata": {},
     "output_type": "execute_result"
    }
   ],
   "source": [
    "arr"
   ]
  },
  {
   "cell_type": "code",
   "execution_count": 44,
   "id": "828a9b39",
   "metadata": {},
   "outputs": [],
   "source": [
    "myList = [1, 3.14, 'hello_world','1234']"
   ]
  },
  {
   "cell_type": "code",
   "execution_count": 45,
   "id": "ad5de7e1",
   "metadata": {},
   "outputs": [
    {
     "data": {
      "text/plain": [
       "[1, 3.14, 'hello_world', '1234']"
      ]
     },
     "execution_count": 45,
     "metadata": {},
     "output_type": "execute_result"
    }
   ],
   "source": [
    "myList"
   ]
  },
  {
   "cell_type": "code",
   "execution_count": 48,
   "id": "ddf78e62",
   "metadata": {},
   "outputs": [],
   "source": [
    "arr = np.array(myList)"
   ]
  },
  {
   "cell_type": "code",
   "execution_count": 49,
   "id": "7ff41e29",
   "metadata": {},
   "outputs": [
    {
     "data": {
      "text/plain": [
       "array(['1', '3.14', 'hello_world', '1234'], dtype='<U32')"
      ]
     },
     "execution_count": 49,
     "metadata": {},
     "output_type": "execute_result"
    }
   ],
   "source": [
    "arr"
   ]
  },
  {
   "cell_type": "code",
   "execution_count": 50,
   "id": "8e114b8b",
   "metadata": {},
   "outputs": [
    {
     "data": {
      "text/plain": [
       "'13.14'"
      ]
     },
     "execution_count": 50,
     "metadata": {},
     "output_type": "execute_result"
    }
   ],
   "source": [
    "arr[0]+arr[1]"
   ]
  },
  {
   "cell_type": "code",
   "execution_count": 51,
   "id": "0ee37fe1",
   "metadata": {},
   "outputs": [
    {
     "data": {
      "text/plain": [
       "4.140000000000001"
      ]
     },
     "execution_count": 51,
     "metadata": {},
     "output_type": "execute_result"
    }
   ],
   "source": [
    "float(arr[0])+float(arr[1])"
   ]
  },
  {
   "cell_type": "markdown",
   "id": "3ebbbd04",
   "metadata": {},
   "source": [
    "### 슬라이싱(Slicing)"
   ]
  },
  {
   "cell_type": "markdown",
   "id": "722ab25a",
   "metadata": {},
   "source": [
    "배열을 부분선택"
   ]
  },
  {
   "cell_type": "markdown",
   "id": "b3b48cce",
   "metadata": {},
   "source": [
    "#### 1차원 배열의 부분선택"
   ]
  },
  {
   "cell_type": "code",
   "execution_count": 53,
   "id": "c2ebbaa3",
   "metadata": {},
   "outputs": [
    {
     "data": {
      "text/plain": [
       "(10,)"
      ]
     },
     "execution_count": 53,
     "metadata": {},
     "output_type": "execute_result"
    }
   ],
   "source": [
    "arr = np.array([0,1,2,3,4,5,6,7,8,9])\n",
    "arr.shape"
   ]
  },
  {
   "cell_type": "code",
   "execution_count": 56,
   "id": "8f66b4b3",
   "metadata": {},
   "outputs": [
    {
     "ename": "IndexError",
     "evalue": "index 10 is out of bounds for axis 0 with size 10",
     "output_type": "error",
     "traceback": [
      "\u001b[1;31m---------------------------------------------------------------------------\u001b[0m",
      "\u001b[1;31mIndexError\u001b[0m                                Traceback (most recent call last)",
      "\u001b[1;32m<ipython-input-56-ff656e92d79c>\u001b[0m in \u001b[0;36m<module>\u001b[1;34m\u001b[0m\n\u001b[1;32m----> 1\u001b[1;33m \u001b[0marr\u001b[0m\u001b[1;33m[\u001b[0m\u001b[1;36m10\u001b[0m\u001b[1;33m]\u001b[0m\u001b[1;33m\u001b[0m\u001b[1;33m\u001b[0m\u001b[0m\n\u001b[0m",
      "\u001b[1;31mIndexError\u001b[0m: index 10 is out of bounds for axis 0 with size 10"
     ]
    }
   ],
   "source": [
    "arr[10]"
   ]
  },
  {
   "cell_type": "code",
   "execution_count": 57,
   "id": "9b790692",
   "metadata": {},
   "outputs": [
    {
     "data": {
      "text/plain": [
       "9"
      ]
     },
     "execution_count": 57,
     "metadata": {},
     "output_type": "execute_result"
    }
   ],
   "source": [
    "arr[-1]"
   ]
  },
  {
   "cell_type": "code",
   "execution_count": 58,
   "id": "655b100b",
   "metadata": {},
   "outputs": [
    {
     "data": {
      "text/plain": [
       "0"
      ]
     },
     "execution_count": 58,
     "metadata": {},
     "output_type": "execute_result"
    }
   ],
   "source": [
    "arr[-10]"
   ]
  },
  {
   "cell_type": "code",
   "execution_count": 59,
   "id": "deb18acb",
   "metadata": {},
   "outputs": [
    {
     "ename": "IndexError",
     "evalue": "index -11 is out of bounds for axis 0 with size 10",
     "output_type": "error",
     "traceback": [
      "\u001b[1;31m---------------------------------------------------------------------------\u001b[0m",
      "\u001b[1;31mIndexError\u001b[0m                                Traceback (most recent call last)",
      "\u001b[1;32m<ipython-input-59-91f133f07612>\u001b[0m in \u001b[0;36m<module>\u001b[1;34m\u001b[0m\n\u001b[1;32m----> 1\u001b[1;33m \u001b[0marr\u001b[0m\u001b[1;33m[\u001b[0m\u001b[1;33m-\u001b[0m\u001b[1;36m11\u001b[0m\u001b[1;33m]\u001b[0m\u001b[1;33m\u001b[0m\u001b[1;33m\u001b[0m\u001b[0m\n\u001b[0m",
      "\u001b[1;31mIndexError\u001b[0m: index -11 is out of bounds for axis 0 with size 10"
     ]
    }
   ],
   "source": [
    "arr[-11]"
   ]
  },
  {
   "cell_type": "markdown",
   "id": "2f76fb87",
   "metadata": {},
   "source": [
    "#### 2차원 배열의 부분선택"
   ]
  },
  {
   "cell_type": "code",
   "execution_count": 60,
   "id": "a39dd516",
   "metadata": {},
   "outputs": [],
   "source": [
    "arr2d = np.array([[1,2,3,4],[5,6,7,8],[9,10,11,12]])"
   ]
  },
  {
   "cell_type": "code",
   "execution_count": 61,
   "id": "a93eb10c",
   "metadata": {},
   "outputs": [
    {
     "data": {
      "text/plain": [
       "array([[ 1,  2,  3,  4],\n",
       "       [ 5,  6,  7,  8],\n",
       "       [ 9, 10, 11, 12]])"
      ]
     },
     "execution_count": 61,
     "metadata": {},
     "output_type": "execute_result"
    }
   ],
   "source": [
    "arr2d"
   ]
  },
  {
   "cell_type": "code",
   "execution_count": 75,
   "id": "830bb20d",
   "metadata": {},
   "outputs": [],
   "source": [
    "# np.arange(12) : 시작값은 0이고(생략), 종료조건이 12미만\n",
    "# np.arange(1,13) : 시작값이 1이고, 종료조건 13미만\n",
    "arr2d = np.array(np.arange(1, 13)).reshape(3,4)"
   ]
  },
  {
   "cell_type": "code",
   "execution_count": 76,
   "id": "e4509bac",
   "metadata": {},
   "outputs": [
    {
     "data": {
      "text/plain": [
       "array([[ 1,  2,  3,  4],\n",
       "       [ 5,  6,  7,  8],\n",
       "       [ 9, 10, 11, 12]])"
      ]
     },
     "execution_count": 76,
     "metadata": {},
     "output_type": "execute_result"
    }
   ],
   "source": [
    "arr2d"
   ]
  },
  {
   "cell_type": "code",
   "execution_count": 77,
   "id": "ba2337a0",
   "metadata": {},
   "outputs": [
    {
     "data": {
      "text/plain": [
       "3"
      ]
     },
     "execution_count": 77,
     "metadata": {},
     "output_type": "execute_result"
    }
   ],
   "source": [
    "arr2d[0,2]"
   ]
  },
  {
   "cell_type": "code",
   "execution_count": 78,
   "id": "cae1ad05",
   "metadata": {},
   "outputs": [
    {
     "data": {
      "text/plain": [
       "11"
      ]
     },
     "execution_count": 78,
     "metadata": {},
     "output_type": "execute_result"
    }
   ],
   "source": [
    "arr2d[2,2]"
   ]
  },
  {
   "cell_type": "code",
   "execution_count": 79,
   "id": "1299ddd6",
   "metadata": {},
   "outputs": [],
   "source": [
    "arr1d = np.array(np.arange(1, 13))"
   ]
  },
  {
   "cell_type": "code",
   "execution_count": 80,
   "id": "440da194",
   "metadata": {},
   "outputs": [
    {
     "data": {
      "text/plain": [
       "array([ 1,  2,  3,  4,  5,  6,  7,  8,  9, 10, 11, 12])"
      ]
     },
     "execution_count": 80,
     "metadata": {},
     "output_type": "execute_result"
    }
   ],
   "source": [
    "arr1d"
   ]
  },
  {
   "cell_type": "code",
   "execution_count": 81,
   "id": "18d3ae7a",
   "metadata": {},
   "outputs": [
    {
     "data": {
      "text/plain": [
       "array([ 2,  3,  4,  5,  6,  7,  8,  9, 10, 11, 12])"
      ]
     },
     "execution_count": 81,
     "metadata": {},
     "output_type": "execute_result"
    }
   ],
   "source": [
    "# 2~12까지만\n",
    "# 시작값:종료값(생략하면 끝까지)\n",
    "arr1d[1:]"
   ]
  },
  {
   "cell_type": "code",
   "execution_count": 83,
   "id": "36362c61",
   "metadata": {},
   "outputs": [
    {
     "data": {
      "text/plain": [
       "array([ 2,  3,  4,  5,  6,  7,  8,  9, 10])"
      ]
     },
     "execution_count": 83,
     "metadata": {},
     "output_type": "execute_result"
    }
   ],
   "source": [
    "#시작값(이상):종료값(index미만)\n",
    "arr1d[1:10]"
   ]
  },
  {
   "cell_type": "code",
   "execution_count": 84,
   "id": "33fccd1b",
   "metadata": {},
   "outputs": [
    {
     "data": {
      "text/plain": [
       "array([ 1,  2,  3,  4,  5,  6,  7,  8,  9, 10, 11])"
      ]
     },
     "execution_count": 84,
     "metadata": {},
     "output_type": "execute_result"
    }
   ],
   "source": [
    "arr1d[:-1]"
   ]
  },
  {
   "cell_type": "code",
   "execution_count": 85,
   "id": "acbb611a",
   "metadata": {},
   "outputs": [
    {
     "data": {
      "text/plain": [
       "array([ 1,  2,  3,  4,  5,  6,  7,  8,  9, 10])"
      ]
     },
     "execution_count": 85,
     "metadata": {},
     "output_type": "execute_result"
    }
   ],
   "source": [
    "arr1d[:-2]"
   ]
  },
  {
   "cell_type": "code",
   "execution_count": 86,
   "id": "6e0604c4",
   "metadata": {},
   "outputs": [
    {
     "data": {
      "text/plain": [
       "array([1, 2, 3, 4, 5, 6, 7, 8, 9])"
      ]
     },
     "execution_count": 86,
     "metadata": {},
     "output_type": "execute_result"
    }
   ],
   "source": [
    "arr1d[:-3]"
   ]
  },
  {
   "cell_type": "code",
   "execution_count": 87,
   "id": "5d553a02",
   "metadata": {},
   "outputs": [],
   "source": [
    "#2차원 배열의 범위 지정(슬라이싱)\n",
    "arr2d = np.array(np.arange(1, 13)).reshape(3,4)"
   ]
  },
  {
   "cell_type": "code",
   "execution_count": 88,
   "id": "c0cab816",
   "metadata": {},
   "outputs": [
    {
     "data": {
      "text/plain": [
       "array([[ 1,  2,  3,  4],\n",
       "       [ 5,  6,  7,  8],\n",
       "       [ 9, 10, 11, 12]])"
      ]
     },
     "execution_count": 88,
     "metadata": {},
     "output_type": "execute_result"
    }
   ],
   "source": [
    "arr2d"
   ]
  },
  {
   "cell_type": "code",
   "execution_count": 89,
   "id": "8c11db9e",
   "metadata": {},
   "outputs": [
    {
     "data": {
      "text/plain": [
       "array([5, 6, 7, 8])"
      ]
     },
     "execution_count": 89,
     "metadata": {},
     "output_type": "execute_result"
    }
   ],
   "source": [
    "# 한 행 지정한 뒤 모두 가져오기\n",
    "# 행,열(: 모든 열) \n",
    "arr2d[1, :]"
   ]
  },
  {
   "cell_type": "code",
   "execution_count": 90,
   "id": "0866c06f",
   "metadata": {},
   "outputs": [
    {
     "data": {
      "text/plain": [
       "(4,)"
      ]
     },
     "execution_count": 90,
     "metadata": {},
     "output_type": "execute_result"
    }
   ],
   "source": [
    "arr2d[1, :].shape"
   ]
  },
  {
   "cell_type": "code",
   "execution_count": 91,
   "id": "b7696ed5",
   "metadata": {},
   "outputs": [
    {
     "data": {
      "text/plain": [
       "array([ 3,  7, 11])"
      ]
     },
     "execution_count": 91,
     "metadata": {},
     "output_type": "execute_result"
    }
   ],
   "source": [
    "arr2d[:,2]"
   ]
  },
  {
   "cell_type": "code",
   "execution_count": 92,
   "id": "7425c8fe",
   "metadata": {},
   "outputs": [
    {
     "data": {
      "text/plain": [
       "(4,)"
      ]
     },
     "execution_count": 92,
     "metadata": {},
     "output_type": "execute_result"
    }
   ],
   "source": [
    "arr2d[1, :].shape"
   ]
  },
  {
   "cell_type": "code",
   "execution_count": 93,
   "id": "2bcb12a0",
   "metadata": {},
   "outputs": [
    {
     "data": {
      "text/plain": [
       "array([[2, 3],\n",
       "       [6, 7]])"
      ]
     },
     "execution_count": 93,
     "metadata": {},
     "output_type": "execute_result"
    }
   ],
   "source": [
    "arr2d[:2,1:3]"
   ]
  },
  {
   "cell_type": "code",
   "execution_count": 95,
   "id": "35ac59c2",
   "metadata": {},
   "outputs": [],
   "source": [
    "# 5x5 배열, 1부터 1씩 증가하는 배열 (1~25)\n",
    "my2dArr = np.array(np.arange(1,26)).reshape(5,5)"
   ]
  },
  {
   "cell_type": "code",
   "execution_count": 96,
   "id": "5bc06458",
   "metadata": {},
   "outputs": [
    {
     "data": {
      "text/plain": [
       "array([[ 1,  2,  3,  4,  5],\n",
       "       [ 6,  7,  8,  9, 10],\n",
       "       [11, 12, 13, 14, 15],\n",
       "       [16, 17, 18, 19, 20],\n",
       "       [21, 22, 23, 24, 25]])"
      ]
     },
     "execution_count": 96,
     "metadata": {},
     "output_type": "execute_result"
    }
   ],
   "source": [
    "my2dArr"
   ]
  },
  {
   "cell_type": "code",
   "execution_count": 97,
   "id": "f8a95cf8",
   "metadata": {},
   "outputs": [
    {
     "data": {
      "text/plain": [
       "array([[12, 13, 14],\n",
       "       [17, 18, 19],\n",
       "       [22, 23, 24]])"
      ]
     },
     "execution_count": 97,
     "metadata": {},
     "output_type": "execute_result"
    }
   ],
   "source": [
    "my2dArr[2:,1:4]"
   ]
  },
  {
   "cell_type": "markdown",
   "id": "120ff9e9",
   "metadata": {},
   "source": [
    "### Fancy Indexing"
   ]
  },
  {
   "cell_type": "markdown",
   "id": "c64e4c96",
   "metadata": {},
   "source": [
    "범위가 아닌 특정 index값을 선택해서 추출하고 싶을 때"
   ]
  },
  {
   "cell_type": "code",
   "execution_count": 99,
   "id": "3d8ba96f",
   "metadata": {},
   "outputs": [],
   "source": [
    "# 1차원의 Fancy Indexing\n",
    "myArr = np.array(np.arange(1,10))"
   ]
  },
  {
   "cell_type": "code",
   "execution_count": 100,
   "id": "1874ca46",
   "metadata": {},
   "outputs": [
    {
     "data": {
      "text/plain": [
       "array([1, 2, 3, 4, 5, 6, 7, 8, 9])"
      ]
     },
     "execution_count": 100,
     "metadata": {},
     "output_type": "execute_result"
    }
   ],
   "source": [
    "myArr"
   ]
  },
  {
   "cell_type": "code",
   "execution_count": 101,
   "id": "368a220d",
   "metadata": {},
   "outputs": [],
   "source": [
    "idx = [0, 2, 4]"
   ]
  },
  {
   "cell_type": "code",
   "execution_count": 103,
   "id": "89cb1b1a",
   "metadata": {},
   "outputs": [
    {
     "data": {
      "text/plain": [
       "array([1, 3, 5])"
      ]
     },
     "execution_count": 103,
     "metadata": {},
     "output_type": "execute_result"
    }
   ],
   "source": [
    "myArr[idx]"
   ]
  },
  {
   "cell_type": "code",
   "execution_count": 104,
   "id": "0a165dba",
   "metadata": {},
   "outputs": [
    {
     "data": {
      "text/plain": [
       "array([[ 1,  2,  3,  4],\n",
       "       [ 5,  6,  7,  8],\n",
       "       [ 9, 10, 11, 12]])"
      ]
     },
     "execution_count": 104,
     "metadata": {},
     "output_type": "execute_result"
    }
   ],
   "source": [
    "# 2차원의 Fancy Indexing\n",
    "my2dArr = np.array(np.arange(1,13)).reshape(3,4)\n",
    "my2dArr"
   ]
  },
  {
   "cell_type": "code",
   "execution_count": 107,
   "id": "fdd44951",
   "metadata": {},
   "outputs": [],
   "source": [
    "index =[0,2,3]"
   ]
  },
  {
   "cell_type": "code",
   "execution_count": 108,
   "id": "845621e2",
   "metadata": {},
   "outputs": [
    {
     "data": {
      "text/plain": [
       "array([[1, 3, 4],\n",
       "       [5, 7, 8]])"
      ]
     },
     "execution_count": 108,
     "metadata": {},
     "output_type": "execute_result"
    }
   ],
   "source": [
    "my2dArr[:2,index]"
   ]
  },
  {
   "cell_type": "markdown",
   "id": "2ccc5f4a",
   "metadata": {},
   "source": [
    "### Boolean Indexing"
   ]
  },
  {
   "cell_type": "markdown",
   "id": "ee22a577",
   "metadata": {},
   "source": [
    "조건 필터링을 통해서 Boolean값을 이용한 색인"
   ]
  },
  {
   "cell_type": "code",
   "execution_count": 109,
   "id": "770379d0",
   "metadata": {},
   "outputs": [],
   "source": [
    "arr = np.array(np.arange(1,8))"
   ]
  },
  {
   "cell_type": "code",
   "execution_count": 110,
   "id": "79c8926c",
   "metadata": {},
   "outputs": [
    {
     "data": {
      "text/plain": [
       "array([1, 2, 3, 4, 5, 6, 7])"
      ]
     },
     "execution_count": 110,
     "metadata": {},
     "output_type": "execute_result"
    }
   ],
   "source": [
    "arr"
   ]
  },
  {
   "cell_type": "code",
   "execution_count": 123,
   "id": "fe99a1e1",
   "metadata": {},
   "outputs": [],
   "source": [
    "arr2d = np.array(np.arange(1,13)).reshape(3,4)"
   ]
  },
  {
   "cell_type": "code",
   "execution_count": 124,
   "id": "afd78ae8",
   "metadata": {},
   "outputs": [
    {
     "data": {
      "text/plain": [
       "array([[ 1,  2,  3,  4],\n",
       "       [ 5,  6,  7,  8],\n",
       "       [ 9, 10, 11, 12]])"
      ]
     },
     "execution_count": 124,
     "metadata": {},
     "output_type": "execute_result"
    }
   ],
   "source": [
    "arr2d "
   ]
  },
  {
   "cell_type": "code",
   "execution_count": 136,
   "id": "5bb69dc0",
   "metadata": {},
   "outputs": [],
   "source": [
    "myTrueFalse = [True, False, True, False,  False, False, False]"
   ]
  },
  {
   "cell_type": "code",
   "execution_count": 137,
   "id": "3d374040",
   "metadata": {},
   "outputs": [],
   "source": [
    "TrueFalse = np.array(myTrueFalse)"
   ]
  },
  {
   "cell_type": "code",
   "execution_count": 138,
   "id": "2b297f57",
   "metadata": {},
   "outputs": [
    {
     "data": {
      "text/plain": [
       "array([1, 3])"
      ]
     },
     "execution_count": 138,
     "metadata": {},
     "output_type": "execute_result"
    }
   ],
   "source": [
    "arr[TrueFalse]"
   ]
  },
  {
   "cell_type": "code",
   "execution_count": 133,
   "id": "e9057511",
   "metadata": {},
   "outputs": [],
   "source": [
    "myTrueFalse = [[True, False, True, False],[True, False, True, False],[False, False, False, False]]"
   ]
  },
  {
   "cell_type": "code",
   "execution_count": 134,
   "id": "a6bcef93",
   "metadata": {},
   "outputs": [],
   "source": [
    "TrueFalse = np.array(myTrueFalse)"
   ]
  },
  {
   "cell_type": "code",
   "execution_count": 135,
   "id": "b8eb60ab",
   "metadata": {},
   "outputs": [
    {
     "data": {
      "text/plain": [
       "array([1, 3, 5, 7])"
      ]
     },
     "execution_count": 135,
     "metadata": {},
     "output_type": "execute_result"
    }
   ],
   "source": [
    "arr2d[TrueFalse]"
   ]
  },
  {
   "cell_type": "code",
   "execution_count": null,
   "id": "c152a445",
   "metadata": {},
   "outputs": [],
   "source": []
  }
 ],
 "metadata": {
  "kernelspec": {
   "display_name": "Python 3",
   "language": "python",
   "name": "python3"
  },
  "language_info": {
   "codemirror_mode": {
    "name": "ipython",
    "version": 3
   },
   "file_extension": ".py",
   "mimetype": "text/x-python",
   "name": "python",
   "nbconvert_exporter": "python",
   "pygments_lexer": "ipython3",
   "version": "3.6.13"
  }
 },
 "nbformat": 4,
 "nbformat_minor": 5
}
